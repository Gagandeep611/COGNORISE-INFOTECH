{
 "cells": [
  {
   "cell_type": "code",
   "execution_count": 1,
   "id": "5055c22c",
   "metadata": {},
   "outputs": [],
   "source": [
    "import pandas as pd\n",
    "import numpy as np\n",
    "import matplotlib.pyplot as plt\n",
    "import seaborn as sns\n",
    "import warnings\n",
    "warnings.filterwarnings('ignore')"
   ]
  },
  {
   "cell_type": "code",
   "execution_count": 2,
   "id": "7664d469",
   "metadata": {},
   "outputs": [
    {
     "data": {
      "text/html": [
       "<div>\n",
       "<style scoped>\n",
       "    .dataframe tbody tr th:only-of-type {\n",
       "        vertical-align: middle;\n",
       "    }\n",
       "\n",
       "    .dataframe tbody tr th {\n",
       "        vertical-align: top;\n",
       "    }\n",
       "\n",
       "    .dataframe thead th {\n",
       "        text-align: right;\n",
       "    }\n",
       "</style>\n",
       "<table border=\"1\" class=\"dataframe\">\n",
       "  <thead>\n",
       "    <tr style=\"text-align: right;\">\n",
       "      <th></th>\n",
       "      <th>review</th>\n",
       "      <th>sentiment</th>\n",
       "    </tr>\n",
       "  </thead>\n",
       "  <tbody>\n",
       "    <tr>\n",
       "      <th>0</th>\n",
       "      <td>One of the other reviewers has mentioned that ...</td>\n",
       "      <td>positive</td>\n",
       "    </tr>\n",
       "    <tr>\n",
       "      <th>1</th>\n",
       "      <td>A wonderful little production. &lt;br /&gt;&lt;br /&gt;The...</td>\n",
       "      <td>positive</td>\n",
       "    </tr>\n",
       "    <tr>\n",
       "      <th>2</th>\n",
       "      <td>I thought this was a wonderful way to spend ti...</td>\n",
       "      <td>positive</td>\n",
       "    </tr>\n",
       "    <tr>\n",
       "      <th>3</th>\n",
       "      <td>Basically there's a family where a little boy ...</td>\n",
       "      <td>negative</td>\n",
       "    </tr>\n",
       "    <tr>\n",
       "      <th>4</th>\n",
       "      <td>Petter Mattei's \"Love in the Time of Money\" is...</td>\n",
       "      <td>positive</td>\n",
       "    </tr>\n",
       "    <tr>\n",
       "      <th>...</th>\n",
       "      <td>...</td>\n",
       "      <td>...</td>\n",
       "    </tr>\n",
       "    <tr>\n",
       "      <th>49995</th>\n",
       "      <td>I thought this movie did a down right good job...</td>\n",
       "      <td>positive</td>\n",
       "    </tr>\n",
       "    <tr>\n",
       "      <th>49996</th>\n",
       "      <td>Bad plot, bad dialogue, bad acting, idiotic di...</td>\n",
       "      <td>negative</td>\n",
       "    </tr>\n",
       "    <tr>\n",
       "      <th>49997</th>\n",
       "      <td>I am a Catholic taught in parochial elementary...</td>\n",
       "      <td>negative</td>\n",
       "    </tr>\n",
       "    <tr>\n",
       "      <th>49998</th>\n",
       "      <td>I'm going to have to disagree with the previou...</td>\n",
       "      <td>negative</td>\n",
       "    </tr>\n",
       "    <tr>\n",
       "      <th>49999</th>\n",
       "      <td>No one expects the Star Trek movies to be high...</td>\n",
       "      <td>negative</td>\n",
       "    </tr>\n",
       "  </tbody>\n",
       "</table>\n",
       "<p>50000 rows × 2 columns</p>\n",
       "</div>"
      ],
      "text/plain": [
       "                                                  review sentiment\n",
       "0      One of the other reviewers has mentioned that ...  positive\n",
       "1      A wonderful little production. <br /><br />The...  positive\n",
       "2      I thought this was a wonderful way to spend ti...  positive\n",
       "3      Basically there's a family where a little boy ...  negative\n",
       "4      Petter Mattei's \"Love in the Time of Money\" is...  positive\n",
       "...                                                  ...       ...\n",
       "49995  I thought this movie did a down right good job...  positive\n",
       "49996  Bad plot, bad dialogue, bad acting, idiotic di...  negative\n",
       "49997  I am a Catholic taught in parochial elementary...  negative\n",
       "49998  I'm going to have to disagree with the previou...  negative\n",
       "49999  No one expects the Star Trek movies to be high...  negative\n",
       "\n",
       "[50000 rows x 2 columns]"
      ]
     },
     "execution_count": 2,
     "metadata": {},
     "output_type": "execute_result"
    }
   ],
   "source": [
    "df=pd.read_csv(r'C:\\Users\\Gagan\\Downloads/IMDB Dataset.csv')\n",
    "df"
   ]
  },
  {
   "cell_type": "code",
   "execution_count": 3,
   "id": "c031deb5",
   "metadata": {},
   "outputs": [
    {
     "data": {
      "text/plain": [
       "(50000, 2)"
      ]
     },
     "execution_count": 3,
     "metadata": {},
     "output_type": "execute_result"
    }
   ],
   "source": [
    "df.shape"
   ]
  },
  {
   "cell_type": "code",
   "execution_count": 4,
   "id": "10f1efdd",
   "metadata": {},
   "outputs": [
    {
     "data": {
      "text/html": [
       "<div>\n",
       "<style scoped>\n",
       "    .dataframe tbody tr th:only-of-type {\n",
       "        vertical-align: middle;\n",
       "    }\n",
       "\n",
       "    .dataframe tbody tr th {\n",
       "        vertical-align: top;\n",
       "    }\n",
       "\n",
       "    .dataframe thead th {\n",
       "        text-align: right;\n",
       "    }\n",
       "</style>\n",
       "<table border=\"1\" class=\"dataframe\">\n",
       "  <thead>\n",
       "    <tr style=\"text-align: right;\">\n",
       "      <th></th>\n",
       "      <th>review</th>\n",
       "      <th>sentiment</th>\n",
       "    </tr>\n",
       "  </thead>\n",
       "  <tbody>\n",
       "    <tr>\n",
       "      <th>0</th>\n",
       "      <td>One of the other reviewers has mentioned that ...</td>\n",
       "      <td>positive</td>\n",
       "    </tr>\n",
       "    <tr>\n",
       "      <th>1</th>\n",
       "      <td>A wonderful little production. &lt;br /&gt;&lt;br /&gt;The...</td>\n",
       "      <td>positive</td>\n",
       "    </tr>\n",
       "    <tr>\n",
       "      <th>2</th>\n",
       "      <td>I thought this was a wonderful way to spend ti...</td>\n",
       "      <td>positive</td>\n",
       "    </tr>\n",
       "    <tr>\n",
       "      <th>3</th>\n",
       "      <td>Basically there's a family where a little boy ...</td>\n",
       "      <td>negative</td>\n",
       "    </tr>\n",
       "    <tr>\n",
       "      <th>4</th>\n",
       "      <td>Petter Mattei's \"Love in the Time of Money\" is...</td>\n",
       "      <td>positive</td>\n",
       "    </tr>\n",
       "  </tbody>\n",
       "</table>\n",
       "</div>"
      ],
      "text/plain": [
       "                                              review sentiment\n",
       "0  One of the other reviewers has mentioned that ...  positive\n",
       "1  A wonderful little production. <br /><br />The...  positive\n",
       "2  I thought this was a wonderful way to spend ti...  positive\n",
       "3  Basically there's a family where a little boy ...  negative\n",
       "4  Petter Mattei's \"Love in the Time of Money\" is...  positive"
      ]
     },
     "execution_count": 4,
     "metadata": {},
     "output_type": "execute_result"
    }
   ],
   "source": [
    "df.head()"
   ]
  },
  {
   "cell_type": "code",
   "execution_count": 5,
   "id": "ea57cdb2",
   "metadata": {},
   "outputs": [
    {
     "data": {
      "text/html": [
       "<div>\n",
       "<style scoped>\n",
       "    .dataframe tbody tr th:only-of-type {\n",
       "        vertical-align: middle;\n",
       "    }\n",
       "\n",
       "    .dataframe tbody tr th {\n",
       "        vertical-align: top;\n",
       "    }\n",
       "\n",
       "    .dataframe thead th {\n",
       "        text-align: right;\n",
       "    }\n",
       "</style>\n",
       "<table border=\"1\" class=\"dataframe\">\n",
       "  <thead>\n",
       "    <tr style=\"text-align: right;\">\n",
       "      <th></th>\n",
       "      <th>review</th>\n",
       "      <th>sentiment</th>\n",
       "    </tr>\n",
       "  </thead>\n",
       "  <tbody>\n",
       "    <tr>\n",
       "      <th>49995</th>\n",
       "      <td>I thought this movie did a down right good job...</td>\n",
       "      <td>positive</td>\n",
       "    </tr>\n",
       "    <tr>\n",
       "      <th>49996</th>\n",
       "      <td>Bad plot, bad dialogue, bad acting, idiotic di...</td>\n",
       "      <td>negative</td>\n",
       "    </tr>\n",
       "    <tr>\n",
       "      <th>49997</th>\n",
       "      <td>I am a Catholic taught in parochial elementary...</td>\n",
       "      <td>negative</td>\n",
       "    </tr>\n",
       "    <tr>\n",
       "      <th>49998</th>\n",
       "      <td>I'm going to have to disagree with the previou...</td>\n",
       "      <td>negative</td>\n",
       "    </tr>\n",
       "    <tr>\n",
       "      <th>49999</th>\n",
       "      <td>No one expects the Star Trek movies to be high...</td>\n",
       "      <td>negative</td>\n",
       "    </tr>\n",
       "  </tbody>\n",
       "</table>\n",
       "</div>"
      ],
      "text/plain": [
       "                                                  review sentiment\n",
       "49995  I thought this movie did a down right good job...  positive\n",
       "49996  Bad plot, bad dialogue, bad acting, idiotic di...  negative\n",
       "49997  I am a Catholic taught in parochial elementary...  negative\n",
       "49998  I'm going to have to disagree with the previou...  negative\n",
       "49999  No one expects the Star Trek movies to be high...  negative"
      ]
     },
     "execution_count": 5,
     "metadata": {},
     "output_type": "execute_result"
    }
   ],
   "source": [
    "df.tail()"
   ]
  },
  {
   "cell_type": "code",
   "execution_count": 6,
   "id": "6d9f6122",
   "metadata": {},
   "outputs": [
    {
     "data": {
      "text/plain": [
       "review       object\n",
       "sentiment    object\n",
       "dtype: object"
      ]
     },
     "execution_count": 6,
     "metadata": {},
     "output_type": "execute_result"
    }
   ],
   "source": [
    "df.dtypes"
   ]
  },
  {
   "cell_type": "code",
   "execution_count": 7,
   "id": "bb507167",
   "metadata": {},
   "outputs": [
    {
     "name": "stdout",
     "output_type": "stream",
     "text": [
      "<class 'pandas.core.frame.DataFrame'>\n",
      "RangeIndex: 50000 entries, 0 to 49999\n",
      "Data columns (total 2 columns):\n",
      " #   Column     Non-Null Count  Dtype \n",
      "---  ------     --------------  ----- \n",
      " 0   review     50000 non-null  object\n",
      " 1   sentiment  50000 non-null  object\n",
      "dtypes: object(2)\n",
      "memory usage: 781.4+ KB\n"
     ]
    }
   ],
   "source": [
    "df.info()"
   ]
  },
  {
   "cell_type": "code",
   "execution_count": 8,
   "id": "13bf2ef7",
   "metadata": {},
   "outputs": [
    {
     "data": {
      "text/plain": [
       "review       0\n",
       "sentiment    0\n",
       "dtype: int64"
      ]
     },
     "execution_count": 8,
     "metadata": {},
     "output_type": "execute_result"
    }
   ],
   "source": [
    "df.isnull().sum()"
   ]
  },
  {
   "cell_type": "code",
   "execution_count": 9,
   "id": "ba704917",
   "metadata": {},
   "outputs": [
    {
     "data": {
      "text/plain": [
       "<AxesSubplot:>"
      ]
     },
     "execution_count": 9,
     "metadata": {},
     "output_type": "execute_result"
    },
    {
     "data": {
      "image/png": "[encoded data removed]",
      "text/plain": [
       "<Figure size 432x288 with 2 Axes>"
      ]
     },
     "metadata": {
      "needs_background": "light"
     },
     "output_type": "display_data"
    }
   ],
   "source": [
    "sns.heatmap(df.isnull())"
   ]
  },
  {
   "cell_type": "code",
   "execution_count": 10,
   "id": "14669fe1",
   "metadata": {},
   "outputs": [
    {
     "name": "stdout",
     "output_type": "stream",
     "text": [
      "Loved today's show!!! It was a variety and not solely cooking (which would have been great too). Very stimulating and captivating, always keeping the viewer peeking around the corner to see what was coming up next. She is as down to earth and as personable as you get, like one of us which made the show all the more enjoyable. Special guests, who are friends as well made for a nice surprise too. Loved the 'first' theme and that the audience was invited to play along too. I must admit I was shocked to see her come in under her time limits on a few things, but she did it and by golly I'll be writing those recipes down. Saving time in the kitchen means more time with family. Those who haven't tuned in yet, find out what channel and the time, I assure you that you won't be disappointed.                                                                                                                                                                                                                                                                                                                                                                                                                                                                                                                                                                                                                                                                                                                                                                                                                                                                                                                                                        5\n",
      "Hilarious, clean, light-hearted, and quote-worthy. What else can you ask for in a film? This is my all-time, number one favorite movie. Ever since I was a little girl, I've dreamed of owning a blue van with flames and an observation bubble.<br /><br />The cliché characters in ridiculous situations are what make this film such great fun. The wonderful comedic chemistry between Stephen Furst (Harold) and Andy Tennant (Melio) make up most of my favorite parts of the movie. And who didn't love the hopeless awkwardness of Flynch? Don't forget the airport antics of Leon's cronies, dressed up as Hari Krishnas: dancing, chanting and playing the tambourine--unbeatable! The clues are genius, the locations are classic, and the plot is timeless.<br /><br />A word to the wise, if you didn't watch this film when you were little, it probably won't win a place in your heart today. But nevertheless give it a chance, you may find that \"It doesn't matter what you say, it doesn't matter what you do, you've gotta play.\"                                                                                                                                                                                                                                                                                                                                                                                                                                                                                                                                                                                                                                                                                                                          4\n",
      "How has this piece of crap stayed on TV this long? It's terrible. It makes me want to shoot someone. It's so fake that it is actually worse than a 1940s sci-fi movie. I'd rather have a stroke than watch this nonsense. I remember watching it when it first came out. I thought, hey this could be interesting, then I found out how absolutely, insanely, ridiculously stupid it really was. It was so bad that I actually took out my pocket knife and stuck my hand to the table.<br /><br />Please people, stop watching this and all other reality shows, they're the trash that is jamming the networks and canceling quality programming that requires some thought to create.                                                                                                                                                                                                                                                                                                                                                                                                                                                                                                                                                                                                                                                                                                                                                                                                                                                                                                                                                                                                                                                                                        3\n",
      "Nickelodeon has gone down the toilet. They have kids saying things like \"Oh my God!\" and \"We're screwed\"<br /><br />This show promotes hate for people who aren't good looking, or aren't in the in crowd. It say that sexual promiscuity is alright, by having girls slobbering over shirtless boys. Not to mention the overweight boy who takes off his shirt. The main characters basically shun anyone out of the ordinary. Carly's friend Sam, who may be a lesbian, beats the snot out of anybody that crosses her path, which says it's alright to be a b**ch. This show has so much negativity in it that nobody should watch it! I give it a 0 out of 10!!!                                                                                                                                                                                                                                                                                                                                                                                                                                                                                                                                                                                                                                                                                                                                                                                                                                                                                                                                                                                                                                                                                                            3\n",
      "You do realize that you've been watching the EXACT SAME SHOW for eight years, right? I could understand the initial curiosity of seeing strangers co-exist on an Island, but you'd think that after watching unkempt, stink-ladened heroes run roughshod through the bush with an egg on a spoon for half a decade would be enough to get you to commit to something a little more original (and interesting).<br /><br />And I'm not even speaking of the shows validity which for the record I find questionable. It's just hard to suspend disbelief for \"Bushy Bill\" eating a rat when the entire crew of producers and camera people are housed in an air conditioned make-shift bio-dome sipping frosty mochcinno's with moxy.<br /><br />What's the appeal here? I don't care about these people or their meandering lives. I just don't get it. But if you DO find yourself being captivated by hairy, unwashed people, I suggest you turn off your TV and just take a trip to your local bus station where you can see people like this in their TRUE habitat. They call them HOMELESS PEOPLE, and free of charge, you can sit back and marvel in their uncanny ability to retrieve various cigarette debris from a plethora of garbage canisters, eventually striking \"pay-dirt\" and fashioning a homemade Dr. Frankenstein-styled cancer-stick, all the while begging people for change for food when the stink of \"Aqua Velva\" on their breath is enough to suggest otherwise. And the best part? Much like Survivor, every week one member of the tribe \"Leaves\" the \"Island\" when they are unceremoniously sent packing to the local Institution when the frightening unmedicated state of full-blown schizophrenia kicks into gear! Now THAT'S ENTERTAINMENT!    3\n",
      "                                                                                                                                                                                                                                                                                                                                                                                                                                                                                                                                                                                                                                                                                                                                                                                                                                                                                                                                                                                                                                                                                                                                                                                                                                                                                                                                                                                                                                                                                                                                                                                                                                                                                                                                                                               ..\n",
      "REVOLT OF THE ZOMBIES (2 outta 5 stars) No, this is not a long-lost ancestor to the classic George A. Romero zombie flicks. This is a low-budget potboiler from 1936 that probably seemed very cool to audiences of the time... but seems awfully routine these days. There is actually a pretty good scene at the start of a soldier firing off his pistol into a horde of approaching zombie soldiers... and a close-up of bullets entering the bare chest of one of them. The effect looks hopelessly fake these days but in 1936 I'm sure it had audiences gasping. The story concerns the search for the secret of mind control... ostensibly to create an unstoppable zombie army... but later as a means for one character to win the woman he loves. The movie is barely an hour long but moves at a snail's pace so it seems feature-length, believe me! There really isn't much to recommend it... you may get some amusement from the faked studio shots of the star \"wading\" through a \"swamp\". The ending is interesting... so I'd say the movie is worth seeing at least once. More than likely you will see it as an extra feature on some cheap \"4 movies on 1 DVD\" compilation at Wal-Mart for five bucks. Hey, it's well worth the money...                                                                                                                                                                                                                                                                                                                                                                                                                                                                                                                   1\n",
      "At least among those movies with 100 votes or more. Nominated for best screenplay written directly for the screen? Brenda Blethyn nominated for best actress in a leading role?? Nominated for best picture?? I always disagree with many of the Oscar picks, but this movie might very well be the worst movie of all time to be honored by the Academy. The writing and acting were both horrible. Blethyn's perfomance in particular was one of the worst I've ever seen, and probably the most over-rated acting performance of all time. Awful movie, not worthy of the big screen and not worthy of any cable or television channel that has ever played it, including HBO(where I saw it). I am only thankful I didn't actually pay to see one of the most over-rated movies of all time.                                                                                                                                                                                                                                                                                                                                                                                                                                                                                                                                                                                                                                                                                                                                                                                                                                                                                                                                                                                1\n",
      "I rented this movie under the impression that it was \"Scarecrow 3:Dark Harvest\", thinking it was a continuation in the Scarecrow Slayer series (another extremely laughable and all together awful series of movies). I wasn't disappointed though. It was just as awful, if not worse, than what I expected. I was laughing throughout the entire movie. Every piece of bad acting, poorly shot and cut footage, and terrible special effects is what makes this movie worth renting.<br /><br />The special features include a pathetic view into the cast and crew's six months of filming.<br /><br />Favorite line, \"The sins of my forefathers! They've trickled down to this very moment of time!\"                                                                                                                                                                                                                                                                                                                                                                                                                                                                                                                                                                                                                                                                                                                                                                                                                                                                                                                                                                                                                                                                       1\n",
      "Surreal film noir released soon after the \"real,\" genre-defining classics \"The Maltese Falcon,\" \"Double Indemnity\" and \"The Postman Always Rings Twice.\" Welles films shouldn't be evaluated against others. He was playing by different rules. In fact, he was playing. This starts where other femme fatale films leave off, so the vaguely logical (but interesting) whodunit is embellished with a display of Wellesian scenes (typical rapid-fire style), dialog (lots of \"hard-boiled\" philosophy), and unusual acting (good Hayworth presumably intentionally one-dimensional). To Welles \"genre\" may have meant \"formula\" but he seemed to like using \"mysteries\" as backgrounds for his \"entertainments.\"                                                                                                                                                                                                                                                                                                                                                                                                                                                                                                                                                                                                                                                                                                                                                                                                                                                                                                                                                                                                                                                              1\n",
      "No one expects the Star Trek movies to be high art, but the fans do expect a movie that is as good as some of the best episodes. Unfortunately, this movie had a muddled, implausible plot that just left me cringing - this is by far the worst of the nine (so far) movies. Even the chance to watch the well known characters interact in another movie can't save this movie - including the goofy scenes with Kirk, Spock and McCoy at Yosemite.<br /><br />I would say this movie is not worth a rental, and hardly worth watching, however for the True Fan who needs to see all the movies, renting this movie is about the only way you'll see it - even the cable channels avoid this movie.                                                                                                                                                                                                                                                                                                                                                                                                                                                                                                                                                                                                                                                                                                                                                                                                                                                                                                                                                                                                                                                                          1\n",
      "Name: review, Length: 49582, dtype: int64\n",
      "positive    25000\n",
      "negative    25000\n",
      "Name: sentiment, dtype: int64\n"
     ]
    }
   ],
   "source": [
    "for i in df.columns:\n",
    "    print(df[i].value_counts())"
   ]
  },
  {
   "cell_type": "code",
   "execution_count": 11,
   "id": "32a2f968",
   "metadata": {},
   "outputs": [
    {
     "data": {
      "text/plain": [
       "<AxesSubplot:xlabel='sentiment', ylabel='count'>"
      ]
     },
     "execution_count": 11,
     "metadata": {},
     "output_type": "execute_result"
    },
    {
     "data": {
      "image/png": "[encoded data removed]",
      "text/plain": [
       "<Figure size 432x288 with 1 Axes>"
      ]
     },
     "metadata": {
      "needs_background": "light"
     },
     "output_type": "display_data"
    }
   ],
   "source": [
    "sns.countplot(x='sentiment',data=df)"
   ]
  },
  {
   "cell_type": "code",
   "execution_count": 16,
   "id": "908ab0bf",
   "metadata": {},
   "outputs": [],
   "source": [
    "df['sentiment']=df['sentiment'].replace({'positive':0,'negative':1})"
   ]
  },
  {
   "cell_type": "code",
   "execution_count": 17,
   "id": "88879705",
   "metadata": {},
   "outputs": [
    {
     "data": {
      "text/html": [
       "<div>\n",
       "<style scoped>\n",
       "    .dataframe tbody tr th:only-of-type {\n",
       "        vertical-align: middle;\n",
       "    }\n",
       "\n",
       "    .dataframe tbody tr th {\n",
       "        vertical-align: top;\n",
       "    }\n",
       "\n",
       "    .dataframe thead th {\n",
       "        text-align: right;\n",
       "    }\n",
       "</style>\n",
       "<table border=\"1\" class=\"dataframe\">\n",
       "  <thead>\n",
       "    <tr style=\"text-align: right;\">\n",
       "      <th></th>\n",
       "      <th>review</th>\n",
       "      <th>sentiment</th>\n",
       "    </tr>\n",
       "  </thead>\n",
       "  <tbody>\n",
       "    <tr>\n",
       "      <th>0</th>\n",
       "      <td>One of the other reviewers has mentioned that ...</td>\n",
       "      <td>0</td>\n",
       "    </tr>\n",
       "    <tr>\n",
       "      <th>1</th>\n",
       "      <td>A wonderful little production. &lt;br /&gt;&lt;br /&gt;The...</td>\n",
       "      <td>0</td>\n",
       "    </tr>\n",
       "    <tr>\n",
       "      <th>2</th>\n",
       "      <td>I thought this was a wonderful way to spend ti...</td>\n",
       "      <td>0</td>\n",
       "    </tr>\n",
       "    <tr>\n",
       "      <th>3</th>\n",
       "      <td>Basically there's a family where a little boy ...</td>\n",
       "      <td>1</td>\n",
       "    </tr>\n",
       "    <tr>\n",
       "      <th>4</th>\n",
       "      <td>Petter Mattei's \"Love in the Time of Money\" is...</td>\n",
       "      <td>0</td>\n",
       "    </tr>\n",
       "    <tr>\n",
       "      <th>...</th>\n",
       "      <td>...</td>\n",
       "      <td>...</td>\n",
       "    </tr>\n",
       "    <tr>\n",
       "      <th>49995</th>\n",
       "      <td>I thought this movie did a down right good job...</td>\n",
       "      <td>0</td>\n",
       "    </tr>\n",
       "    <tr>\n",
       "      <th>49996</th>\n",
       "      <td>Bad plot, bad dialogue, bad acting, idiotic di...</td>\n",
       "      <td>1</td>\n",
       "    </tr>\n",
       "    <tr>\n",
       "      <th>49997</th>\n",
       "      <td>I am a Catholic taught in parochial elementary...</td>\n",
       "      <td>1</td>\n",
       "    </tr>\n",
       "    <tr>\n",
       "      <th>49998</th>\n",
       "      <td>I'm going to have to disagree with the previou...</td>\n",
       "      <td>1</td>\n",
       "    </tr>\n",
       "    <tr>\n",
       "      <th>49999</th>\n",
       "      <td>No one expects the Star Trek movies to be high...</td>\n",
       "      <td>1</td>\n",
       "    </tr>\n",
       "  </tbody>\n",
       "</table>\n",
       "<p>50000 rows × 2 columns</p>\n",
       "</div>"
      ],
      "text/plain": [
       "                                                  review  sentiment\n",
       "0      One of the other reviewers has mentioned that ...          0\n",
       "1      A wonderful little production. <br /><br />The...          0\n",
       "2      I thought this was a wonderful way to spend ti...          0\n",
       "3      Basically there's a family where a little boy ...          1\n",
       "4      Petter Mattei's \"Love in the Time of Money\" is...          0\n",
       "...                                                  ...        ...\n",
       "49995  I thought this movie did a down right good job...          0\n",
       "49996  Bad plot, bad dialogue, bad acting, idiotic di...          1\n",
       "49997  I am a Catholic taught in parochial elementary...          1\n",
       "49998  I'm going to have to disagree with the previou...          1\n",
       "49999  No one expects the Star Trek movies to be high...          1\n",
       "\n",
       "[50000 rows x 2 columns]"
      ]
     },
     "execution_count": 17,
     "metadata": {},
     "output_type": "execute_result"
    }
   ],
   "source": [
    "df"
   ]
  },
  {
   "cell_type": "code",
   "execution_count": 18,
   "id": "7296bb01",
   "metadata": {},
   "outputs": [],
   "source": [
    "from category_encoders import BinaryEncoder"
   ]
  },
  {
   "cell_type": "code",
   "execution_count": 19,
   "id": "48579dd6",
   "metadata": {},
   "outputs": [
    {
     "data": {
      "text/html": [
       "<div>\n",
       "<style scoped>\n",
       "    .dataframe tbody tr th:only-of-type {\n",
       "        vertical-align: middle;\n",
       "    }\n",
       "\n",
       "    .dataframe tbody tr th {\n",
       "        vertical-align: top;\n",
       "    }\n",
       "\n",
       "    .dataframe thead th {\n",
       "        text-align: right;\n",
       "    }\n",
       "</style>\n",
       "<table border=\"1\" class=\"dataframe\">\n",
       "  <thead>\n",
       "    <tr style=\"text-align: right;\">\n",
       "      <th></th>\n",
       "      <th>review_0</th>\n",
       "      <th>review_1</th>\n",
       "      <th>review_2</th>\n",
       "      <th>review_3</th>\n",
       "      <th>review_4</th>\n",
       "      <th>review_5</th>\n",
       "      <th>review_6</th>\n",
       "      <th>review_7</th>\n",
       "      <th>review_8</th>\n",
       "      <th>review_9</th>\n",
       "      <th>review_10</th>\n",
       "      <th>review_11</th>\n",
       "      <th>review_12</th>\n",
       "      <th>review_13</th>\n",
       "      <th>review_14</th>\n",
       "      <th>review_15</th>\n",
       "      <th>sentiment</th>\n",
       "    </tr>\n",
       "  </thead>\n",
       "  <tbody>\n",
       "    <tr>\n",
       "      <th>0</th>\n",
       "      <td>0</td>\n",
       "      <td>0</td>\n",
       "      <td>0</td>\n",
       "      <td>0</td>\n",
       "      <td>0</td>\n",
       "      <td>0</td>\n",
       "      <td>0</td>\n",
       "      <td>0</td>\n",
       "      <td>0</td>\n",
       "      <td>0</td>\n",
       "      <td>0</td>\n",
       "      <td>0</td>\n",
       "      <td>0</td>\n",
       "      <td>0</td>\n",
       "      <td>0</td>\n",
       "      <td>1</td>\n",
       "      <td>0</td>\n",
       "    </tr>\n",
       "    <tr>\n",
       "      <th>1</th>\n",
       "      <td>0</td>\n",
       "      <td>0</td>\n",
       "      <td>0</td>\n",
       "      <td>0</td>\n",
       "      <td>0</td>\n",
       "      <td>0</td>\n",
       "      <td>0</td>\n",
       "      <td>0</td>\n",
       "      <td>0</td>\n",
       "      <td>0</td>\n",
       "      <td>0</td>\n",
       "      <td>0</td>\n",
       "      <td>0</td>\n",
       "      <td>0</td>\n",
       "      <td>1</td>\n",
       "      <td>0</td>\n",
       "      <td>0</td>\n",
       "    </tr>\n",
       "    <tr>\n",
       "      <th>2</th>\n",
       "      <td>0</td>\n",
       "      <td>0</td>\n",
       "      <td>0</td>\n",
       "      <td>0</td>\n",
       "      <td>0</td>\n",
       "      <td>0</td>\n",
       "      <td>0</td>\n",
       "      <td>0</td>\n",
       "      <td>0</td>\n",
       "      <td>0</td>\n",
       "      <td>0</td>\n",
       "      <td>0</td>\n",
       "      <td>0</td>\n",
       "      <td>0</td>\n",
       "      <td>1</td>\n",
       "      <td>1</td>\n",
       "      <td>0</td>\n",
       "    </tr>\n",
       "    <tr>\n",
       "      <th>3</th>\n",
       "      <td>0</td>\n",
       "      <td>0</td>\n",
       "      <td>0</td>\n",
       "      <td>0</td>\n",
       "      <td>0</td>\n",
       "      <td>0</td>\n",
       "      <td>0</td>\n",
       "      <td>0</td>\n",
       "      <td>0</td>\n",
       "      <td>0</td>\n",
       "      <td>0</td>\n",
       "      <td>0</td>\n",
       "      <td>0</td>\n",
       "      <td>1</td>\n",
       "      <td>0</td>\n",
       "      <td>0</td>\n",
       "      <td>1</td>\n",
       "    </tr>\n",
       "    <tr>\n",
       "      <th>4</th>\n",
       "      <td>0</td>\n",
       "      <td>0</td>\n",
       "      <td>0</td>\n",
       "      <td>0</td>\n",
       "      <td>0</td>\n",
       "      <td>0</td>\n",
       "      <td>0</td>\n",
       "      <td>0</td>\n",
       "      <td>0</td>\n",
       "      <td>0</td>\n",
       "      <td>0</td>\n",
       "      <td>0</td>\n",
       "      <td>0</td>\n",
       "      <td>1</td>\n",
       "      <td>0</td>\n",
       "      <td>1</td>\n",
       "      <td>0</td>\n",
       "    </tr>\n",
       "    <tr>\n",
       "      <th>...</th>\n",
       "      <td>...</td>\n",
       "      <td>...</td>\n",
       "      <td>...</td>\n",
       "      <td>...</td>\n",
       "      <td>...</td>\n",
       "      <td>...</td>\n",
       "      <td>...</td>\n",
       "      <td>...</td>\n",
       "      <td>...</td>\n",
       "      <td>...</td>\n",
       "      <td>...</td>\n",
       "      <td>...</td>\n",
       "      <td>...</td>\n",
       "      <td>...</td>\n",
       "      <td>...</td>\n",
       "      <td>...</td>\n",
       "      <td>...</td>\n",
       "    </tr>\n",
       "    <tr>\n",
       "      <th>49995</th>\n",
       "      <td>1</td>\n",
       "      <td>1</td>\n",
       "      <td>0</td>\n",
       "      <td>0</td>\n",
       "      <td>0</td>\n",
       "      <td>0</td>\n",
       "      <td>0</td>\n",
       "      <td>1</td>\n",
       "      <td>1</td>\n",
       "      <td>0</td>\n",
       "      <td>1</td>\n",
       "      <td>0</td>\n",
       "      <td>1</td>\n",
       "      <td>0</td>\n",
       "      <td>1</td>\n",
       "      <td>0</td>\n",
       "      <td>0</td>\n",
       "    </tr>\n",
       "    <tr>\n",
       "      <th>49996</th>\n",
       "      <td>1</td>\n",
       "      <td>1</td>\n",
       "      <td>0</td>\n",
       "      <td>0</td>\n",
       "      <td>0</td>\n",
       "      <td>0</td>\n",
       "      <td>0</td>\n",
       "      <td>1</td>\n",
       "      <td>1</td>\n",
       "      <td>0</td>\n",
       "      <td>1</td>\n",
       "      <td>0</td>\n",
       "      <td>1</td>\n",
       "      <td>0</td>\n",
       "      <td>1</td>\n",
       "      <td>1</td>\n",
       "      <td>1</td>\n",
       "    </tr>\n",
       "    <tr>\n",
       "      <th>49997</th>\n",
       "      <td>1</td>\n",
       "      <td>1</td>\n",
       "      <td>0</td>\n",
       "      <td>0</td>\n",
       "      <td>0</td>\n",
       "      <td>0</td>\n",
       "      <td>0</td>\n",
       "      <td>1</td>\n",
       "      <td>1</td>\n",
       "      <td>0</td>\n",
       "      <td>1</td>\n",
       "      <td>0</td>\n",
       "      <td>1</td>\n",
       "      <td>1</td>\n",
       "      <td>0</td>\n",
       "      <td>0</td>\n",
       "      <td>1</td>\n",
       "    </tr>\n",
       "    <tr>\n",
       "      <th>49998</th>\n",
       "      <td>1</td>\n",
       "      <td>1</td>\n",
       "      <td>0</td>\n",
       "      <td>0</td>\n",
       "      <td>0</td>\n",
       "      <td>0</td>\n",
       "      <td>0</td>\n",
       "      <td>1</td>\n",
       "      <td>1</td>\n",
       "      <td>0</td>\n",
       "      <td>1</td>\n",
       "      <td>0</td>\n",
       "      <td>1</td>\n",
       "      <td>1</td>\n",
       "      <td>0</td>\n",
       "      <td>1</td>\n",
       "      <td>1</td>\n",
       "    </tr>\n",
       "    <tr>\n",
       "      <th>49999</th>\n",
       "      <td>1</td>\n",
       "      <td>1</td>\n",
       "      <td>0</td>\n",
       "      <td>0</td>\n",
       "      <td>0</td>\n",
       "      <td>0</td>\n",
       "      <td>0</td>\n",
       "      <td>1</td>\n",
       "      <td>1</td>\n",
       "      <td>0</td>\n",
       "      <td>1</td>\n",
       "      <td>0</td>\n",
       "      <td>1</td>\n",
       "      <td>1</td>\n",
       "      <td>1</td>\n",
       "      <td>0</td>\n",
       "      <td>1</td>\n",
       "    </tr>\n",
       "  </tbody>\n",
       "</table>\n",
       "<p>50000 rows × 17 columns</p>\n",
       "</div>"
      ],
      "text/plain": [
       "       review_0  review_1  review_2  review_3  review_4  review_5  review_6  \\\n",
       "0             0         0         0         0         0         0         0   \n",
       "1             0         0         0         0         0         0         0   \n",
       "2             0         0         0         0         0         0         0   \n",
       "3             0         0         0         0         0         0         0   \n",
       "4             0         0         0         0         0         0         0   \n",
       "...         ...       ...       ...       ...       ...       ...       ...   \n",
       "49995         1         1         0         0         0         0         0   \n",
       "49996         1         1         0         0         0         0         0   \n",
       "49997         1         1         0         0         0         0         0   \n",
       "49998         1         1         0         0         0         0         0   \n",
       "49999         1         1         0         0         0         0         0   \n",
       "\n",
       "       review_7  review_8  review_9  review_10  review_11  review_12  \\\n",
       "0             0         0         0          0          0          0   \n",
       "1             0         0         0          0          0          0   \n",
       "2             0         0         0          0          0          0   \n",
       "3             0         0         0          0          0          0   \n",
       "4             0         0         0          0          0          0   \n",
       "...         ...       ...       ...        ...        ...        ...   \n",
       "49995         1         1         0          1          0          1   \n",
       "49996         1         1         0          1          0          1   \n",
       "49997         1         1         0          1          0          1   \n",
       "49998         1         1         0          1          0          1   \n",
       "49999         1         1         0          1          0          1   \n",
       "\n",
       "       review_13  review_14  review_15  sentiment  \n",
       "0              0          0          1          0  \n",
       "1              0          1          0          0  \n",
       "2              0          1          1          0  \n",
       "3              1          0          0          1  \n",
       "4              1          0          1          0  \n",
       "...          ...        ...        ...        ...  \n",
       "49995          0          1          0          0  \n",
       "49996          0          1          1          1  \n",
       "49997          1          0          0          1  \n",
       "49998          1          0          1          1  \n",
       "49999          1          1          0          1  \n",
       "\n",
       "[50000 rows x 17 columns]"
      ]
     },
     "execution_count": 19,
     "metadata": {},
     "output_type": "execute_result"
    }
   ],
   "source": [
    "BE=BinaryEncoder()\n",
    "df=BE.fit_transform(df,drop_first=True)\n",
    "df"
   ]
  },
  {
   "cell_type": "code",
   "execution_count": 20,
   "id": "3ede12f2",
   "metadata": {},
   "outputs": [
    {
     "data": {
      "text/html": [
       "<div>\n",
       "<style scoped>\n",
       "    .dataframe tbody tr th:only-of-type {\n",
       "        vertical-align: middle;\n",
       "    }\n",
       "\n",
       "    .dataframe tbody tr th {\n",
       "        vertical-align: top;\n",
       "    }\n",
       "\n",
       "    .dataframe thead th {\n",
       "        text-align: right;\n",
       "    }\n",
       "</style>\n",
       "<table border=\"1\" class=\"dataframe\">\n",
       "  <thead>\n",
       "    <tr style=\"text-align: right;\">\n",
       "      <th></th>\n",
       "      <th>review_0</th>\n",
       "      <th>review_1</th>\n",
       "      <th>review_2</th>\n",
       "      <th>review_3</th>\n",
       "      <th>review_4</th>\n",
       "      <th>review_5</th>\n",
       "      <th>review_6</th>\n",
       "      <th>review_7</th>\n",
       "      <th>review_8</th>\n",
       "      <th>review_9</th>\n",
       "      <th>review_10</th>\n",
       "      <th>review_11</th>\n",
       "      <th>review_12</th>\n",
       "      <th>review_13</th>\n",
       "      <th>review_14</th>\n",
       "      <th>review_15</th>\n",
       "      <th>sentiment</th>\n",
       "    </tr>\n",
       "  </thead>\n",
       "  <tbody>\n",
       "    <tr>\n",
       "      <th>review_0</th>\n",
       "      <td>1.000000</td>\n",
       "      <td>-0.472563</td>\n",
       "      <td>-0.012203</td>\n",
       "      <td>-0.012575</td>\n",
       "      <td>-0.011899</td>\n",
       "      <td>-0.011787</td>\n",
       "      <td>-0.011642</td>\n",
       "      <td>-2.001851e-03</td>\n",
       "      <td>-1.657445e-03</td>\n",
       "      <td>-0.001532</td>\n",
       "      <td>-0.000881</td>\n",
       "      <td>-0.000583</td>\n",
       "      <td>1.003692e-04</td>\n",
       "      <td>-2.430419e-04</td>\n",
       "      <td>-2.145074e-04</td>\n",
       "      <td>-1.013659e-04</td>\n",
       "      <td>-0.003765</td>\n",
       "    </tr>\n",
       "    <tr>\n",
       "      <th>review_1</th>\n",
       "      <td>-0.472563</td>\n",
       "      <td>1.000000</td>\n",
       "      <td>-0.012316</td>\n",
       "      <td>-0.012015</td>\n",
       "      <td>-0.012776</td>\n",
       "      <td>-0.012750</td>\n",
       "      <td>-0.012349</td>\n",
       "      <td>-2.329896e-03</td>\n",
       "      <td>-2.405497e-03</td>\n",
       "      <td>-0.000851</td>\n",
       "      <td>-0.000454</td>\n",
       "      <td>-0.000332</td>\n",
       "      <td>1.655151e-05</td>\n",
       "      <td>-1.598374e-04</td>\n",
       "      <td>-3.846491e-04</td>\n",
       "      <td>6.645615e-05</td>\n",
       "      <td>-0.009759</td>\n",
       "    </tr>\n",
       "    <tr>\n",
       "      <th>review_2</th>\n",
       "      <td>-0.012203</td>\n",
       "      <td>-0.012316</td>\n",
       "      <td>1.000000</td>\n",
       "      <td>0.007875</td>\n",
       "      <td>0.008435</td>\n",
       "      <td>0.008477</td>\n",
       "      <td>0.008232</td>\n",
       "      <td>1.623112e-03</td>\n",
       "      <td>1.776181e-03</td>\n",
       "      <td>0.000754</td>\n",
       "      <td>0.000152</td>\n",
       "      <td>0.000206</td>\n",
       "      <td>-8.193181e-05</td>\n",
       "      <td>-5.161680e-04</td>\n",
       "      <td>-9.565741e-04</td>\n",
       "      <td>-9.169579e-04</td>\n",
       "      <td>0.006280</td>\n",
       "    </tr>\n",
       "    <tr>\n",
       "      <th>review_3</th>\n",
       "      <td>-0.012575</td>\n",
       "      <td>-0.012015</td>\n",
       "      <td>0.007875</td>\n",
       "      <td>1.000000</td>\n",
       "      <td>0.008722</td>\n",
       "      <td>0.008604</td>\n",
       "      <td>0.008599</td>\n",
       "      <td>2.064456e-03</td>\n",
       "      <td>1.418038e-03</td>\n",
       "      <td>0.000714</td>\n",
       "      <td>0.000193</td>\n",
       "      <td>0.000086</td>\n",
       "      <td>-6.818029e-04</td>\n",
       "      <td>-7.645102e-05</td>\n",
       "      <td>7.632269e-04</td>\n",
       "      <td>-7.716145e-05</td>\n",
       "      <td>0.000720</td>\n",
       "    </tr>\n",
       "    <tr>\n",
       "      <th>review_4</th>\n",
       "      <td>-0.011899</td>\n",
       "      <td>-0.012776</td>\n",
       "      <td>0.008435</td>\n",
       "      <td>0.008722</td>\n",
       "      <td>1.000000</td>\n",
       "      <td>0.008284</td>\n",
       "      <td>0.008599</td>\n",
       "      <td>1.904449e-03</td>\n",
       "      <td>1.738051e-03</td>\n",
       "      <td>0.000234</td>\n",
       "      <td>0.000193</td>\n",
       "      <td>0.000086</td>\n",
       "      <td>2.782350e-04</td>\n",
       "      <td>2.435616e-04</td>\n",
       "      <td>-3.568173e-04</td>\n",
       "      <td>5.628638e-04</td>\n",
       "      <td>0.008880</td>\n",
       "    </tr>\n",
       "    <tr>\n",
       "      <th>review_5</th>\n",
       "      <td>-0.011787</td>\n",
       "      <td>-0.012750</td>\n",
       "      <td>0.008477</td>\n",
       "      <td>0.008604</td>\n",
       "      <td>0.008284</td>\n",
       "      <td>1.000000</td>\n",
       "      <td>0.008961</td>\n",
       "      <td>1.144768e-03</td>\n",
       "      <td>8.985102e-04</td>\n",
       "      <td>0.000834</td>\n",
       "      <td>-0.000007</td>\n",
       "      <td>0.000046</td>\n",
       "      <td>1.582700e-04</td>\n",
       "      <td>-3.565415e-04</td>\n",
       "      <td>3.231370e-04</td>\n",
       "      <td>1.227822e-04</td>\n",
       "      <td>0.009320</td>\n",
       "    </tr>\n",
       "    <tr>\n",
       "      <th>review_6</th>\n",
       "      <td>-0.011642</td>\n",
       "      <td>-0.012349</td>\n",
       "      <td>0.008232</td>\n",
       "      <td>0.008599</td>\n",
       "      <td>0.008599</td>\n",
       "      <td>0.008961</td>\n",
       "      <td>1.000000</td>\n",
       "      <td>1.863820e-03</td>\n",
       "      <td>1.937173e-03</td>\n",
       "      <td>0.000594</td>\n",
       "      <td>0.001192</td>\n",
       "      <td>0.000206</td>\n",
       "      <td>3.981690e-04</td>\n",
       "      <td>5.237184e-04</td>\n",
       "      <td>-4.766940e-04</td>\n",
       "      <td>-2.770550e-04</td>\n",
       "      <td>0.004600</td>\n",
       "    </tr>\n",
       "    <tr>\n",
       "      <th>review_7</th>\n",
       "      <td>-0.002002</td>\n",
       "      <td>-0.002330</td>\n",
       "      <td>0.001623</td>\n",
       "      <td>0.002064</td>\n",
       "      <td>0.001904</td>\n",
       "      <td>0.001145</td>\n",
       "      <td>0.001864</td>\n",
       "      <td>1.000000e+00</td>\n",
       "      <td>-1.604372e-03</td>\n",
       "      <td>-0.000401</td>\n",
       "      <td>0.000119</td>\n",
       "      <td>-0.000319</td>\n",
       "      <td>-8.403533e-04</td>\n",
       "      <td>-1.592963e-04</td>\n",
       "      <td>-1.193666e-04</td>\n",
       "      <td>5.632009e-07</td>\n",
       "      <td>-0.001360</td>\n",
       "    </tr>\n",
       "    <tr>\n",
       "      <th>review_8</th>\n",
       "      <td>-0.001657</td>\n",
       "      <td>-0.002405</td>\n",
       "      <td>0.001776</td>\n",
       "      <td>0.001418</td>\n",
       "      <td>0.001738</td>\n",
       "      <td>0.000899</td>\n",
       "      <td>0.001937</td>\n",
       "      <td>-1.604372e-03</td>\n",
       "      <td>1.000000e+00</td>\n",
       "      <td>-0.000402</td>\n",
       "      <td>-0.000842</td>\n",
       "      <td>-0.000398</td>\n",
       "      <td>-2.804969e-04</td>\n",
       "      <td>9.920031e-07</td>\n",
       "      <td>-8.391098e-04</td>\n",
       "      <td>7.207959e-04</td>\n",
       "      <td>-0.008080</td>\n",
       "    </tr>\n",
       "    <tr>\n",
       "      <th>review_9</th>\n",
       "      <td>-0.001532</td>\n",
       "      <td>-0.000851</td>\n",
       "      <td>0.000754</td>\n",
       "      <td>0.000714</td>\n",
       "      <td>0.000234</td>\n",
       "      <td>0.000834</td>\n",
       "      <td>0.000594</td>\n",
       "      <td>-4.011271e-04</td>\n",
       "      <td>-4.015885e-04</td>\n",
       "      <td>1.000000</td>\n",
       "      <td>0.000599</td>\n",
       "      <td>0.000480</td>\n",
       "      <td>-4.012801e-05</td>\n",
       "      <td>3.202561e-04</td>\n",
       "      <td>-3.976961e-05</td>\n",
       "      <td>9.602050e-04</td>\n",
       "      <td>-0.003600</td>\n",
       "    </tr>\n",
       "    <tr>\n",
       "      <th>review_10</th>\n",
       "      <td>-0.000881</td>\n",
       "      <td>-0.000454</td>\n",
       "      <td>0.000152</td>\n",
       "      <td>0.000193</td>\n",
       "      <td>0.000193</td>\n",
       "      <td>-0.000007</td>\n",
       "      <td>0.001192</td>\n",
       "      <td>1.185218e-04</td>\n",
       "      <td>-8.420861e-04</td>\n",
       "      <td>0.000599</td>\n",
       "      <td>1.000000</td>\n",
       "      <td>0.000121</td>\n",
       "      <td>-6.401682e-04</td>\n",
       "      <td>-1.196641e-04</td>\n",
       "      <td>-3.196977e-04</td>\n",
       "      <td>-1.197312e-04</td>\n",
       "      <td>0.011560</td>\n",
       "    </tr>\n",
       "    <tr>\n",
       "      <th>review_11</th>\n",
       "      <td>-0.000583</td>\n",
       "      <td>-0.000332</td>\n",
       "      <td>0.000206</td>\n",
       "      <td>0.000086</td>\n",
       "      <td>0.000086</td>\n",
       "      <td>0.000046</td>\n",
       "      <td>0.000206</td>\n",
       "      <td>-3.188742e-04</td>\n",
       "      <td>-3.984141e-04</td>\n",
       "      <td>0.000480</td>\n",
       "      <td>0.000121</td>\n",
       "      <td>1.000000</td>\n",
       "      <td>-5.198721e-04</td>\n",
       "      <td>7.974402e-05</td>\n",
       "      <td>6.797698e-04</td>\n",
       "      <td>6.397954e-04</td>\n",
       "      <td>0.001120</td>\n",
       "    </tr>\n",
       "    <tr>\n",
       "      <th>review_12</th>\n",
       "      <td>0.000100</td>\n",
       "      <td>0.000017</td>\n",
       "      <td>-0.000082</td>\n",
       "      <td>-0.000682</td>\n",
       "      <td>0.000278</td>\n",
       "      <td>0.000158</td>\n",
       "      <td>0.000398</td>\n",
       "      <td>-8.403533e-04</td>\n",
       "      <td>-2.804969e-04</td>\n",
       "      <td>-0.000040</td>\n",
       "      <td>-0.000640</td>\n",
       "      <td>-0.000520</td>\n",
       "      <td>1.000000e+00</td>\n",
       "      <td>4.400800e-04</td>\n",
       "      <td>7.200001e-08</td>\n",
       "      <td>1.200640e-04</td>\n",
       "      <td>-0.005160</td>\n",
       "    </tr>\n",
       "    <tr>\n",
       "      <th>review_13</th>\n",
       "      <td>-0.000243</td>\n",
       "      <td>-0.000160</td>\n",
       "      <td>-0.000516</td>\n",
       "      <td>-0.000076</td>\n",
       "      <td>0.000244</td>\n",
       "      <td>-0.000357</td>\n",
       "      <td>0.000524</td>\n",
       "      <td>-1.592963e-04</td>\n",
       "      <td>9.920031e-07</td>\n",
       "      <td>0.000320</td>\n",
       "      <td>-0.000120</td>\n",
       "      <td>0.000080</td>\n",
       "      <td>4.400800e-04</td>\n",
       "      <td>1.000000e+00</td>\n",
       "      <td>6.798561e-04</td>\n",
       "      <td>-4.801281e-04</td>\n",
       "      <td>0.005200</td>\n",
       "    </tr>\n",
       "    <tr>\n",
       "      <th>review_14</th>\n",
       "      <td>-0.000215</td>\n",
       "      <td>-0.000385</td>\n",
       "      <td>-0.000957</td>\n",
       "      <td>0.000763</td>\n",
       "      <td>-0.000357</td>\n",
       "      <td>0.000323</td>\n",
       "      <td>-0.000477</td>\n",
       "      <td>-1.193666e-04</td>\n",
       "      <td>-8.391098e-04</td>\n",
       "      <td>-0.000040</td>\n",
       "      <td>-0.000320</td>\n",
       "      <td>0.000680</td>\n",
       "      <td>7.200001e-08</td>\n",
       "      <td>6.798561e-04</td>\n",
       "      <td>1.000000e+00</td>\n",
       "      <td>1.198848e-04</td>\n",
       "      <td>-0.001800</td>\n",
       "    </tr>\n",
       "    <tr>\n",
       "      <th>review_15</th>\n",
       "      <td>-0.000101</td>\n",
       "      <td>0.000066</td>\n",
       "      <td>-0.000917</td>\n",
       "      <td>-0.000077</td>\n",
       "      <td>0.000563</td>\n",
       "      <td>0.000123</td>\n",
       "      <td>-0.000277</td>\n",
       "      <td>5.632009e-07</td>\n",
       "      <td>7.207959e-04</td>\n",
       "      <td>0.000960</td>\n",
       "      <td>-0.000120</td>\n",
       "      <td>0.000640</td>\n",
       "      <td>1.200640e-04</td>\n",
       "      <td>-4.801281e-04</td>\n",
       "      <td>1.198848e-04</td>\n",
       "      <td>1.000000e+00</td>\n",
       "      <td>0.013680</td>\n",
       "    </tr>\n",
       "    <tr>\n",
       "      <th>sentiment</th>\n",
       "      <td>-0.003765</td>\n",
       "      <td>-0.009759</td>\n",
       "      <td>0.006280</td>\n",
       "      <td>0.000720</td>\n",
       "      <td>0.008880</td>\n",
       "      <td>0.009320</td>\n",
       "      <td>0.004600</td>\n",
       "      <td>-1.360002e-03</td>\n",
       "      <td>-8.080025e-03</td>\n",
       "      <td>-0.003600</td>\n",
       "      <td>0.011560</td>\n",
       "      <td>0.001120</td>\n",
       "      <td>-5.160000e-03</td>\n",
       "      <td>5.200000e-03</td>\n",
       "      <td>-1.800000e-03</td>\n",
       "      <td>1.368000e-02</td>\n",
       "      <td>1.000000</td>\n",
       "    </tr>\n",
       "  </tbody>\n",
       "</table>\n",
       "</div>"
      ],
      "text/plain": [
       "           review_0  review_1  review_2  review_3  review_4  review_5  \\\n",
       "review_0   1.000000 -0.472563 -0.012203 -0.012575 -0.011899 -0.011787   \n",
       "review_1  -0.472563  1.000000 -0.012316 -0.012015 -0.012776 -0.012750   \n",
       "review_2  -0.012203 -0.012316  1.000000  0.007875  0.008435  0.008477   \n",
       "review_3  -0.012575 -0.012015  0.007875  1.000000  0.008722  0.008604   \n",
       "review_4  -0.011899 -0.012776  0.008435  0.008722  1.000000  0.008284   \n",
       "review_5  -0.011787 -0.012750  0.008477  0.008604  0.008284  1.000000   \n",
       "review_6  -0.011642 -0.012349  0.008232  0.008599  0.008599  0.008961   \n",
       "review_7  -0.002002 -0.002330  0.001623  0.002064  0.001904  0.001145   \n",
       "review_8  -0.001657 -0.002405  0.001776  0.001418  0.001738  0.000899   \n",
       "review_9  -0.001532 -0.000851  0.000754  0.000714  0.000234  0.000834   \n",
       "review_10 -0.000881 -0.000454  0.000152  0.000193  0.000193 -0.000007   \n",
       "review_11 -0.000583 -0.000332  0.000206  0.000086  0.000086  0.000046   \n",
       "review_12  0.000100  0.000017 -0.000082 -0.000682  0.000278  0.000158   \n",
       "review_13 -0.000243 -0.000160 -0.000516 -0.000076  0.000244 -0.000357   \n",
       "review_14 -0.000215 -0.000385 -0.000957  0.000763 -0.000357  0.000323   \n",
       "review_15 -0.000101  0.000066 -0.000917 -0.000077  0.000563  0.000123   \n",
       "sentiment -0.003765 -0.009759  0.006280  0.000720  0.008880  0.009320   \n",
       "\n",
       "           review_6      review_7      review_8  review_9  review_10  \\\n",
       "review_0  -0.011642 -2.001851e-03 -1.657445e-03 -0.001532  -0.000881   \n",
       "review_1  -0.012349 -2.329896e-03 -2.405497e-03 -0.000851  -0.000454   \n",
       "review_2   0.008232  1.623112e-03  1.776181e-03  0.000754   0.000152   \n",
       "review_3   0.008599  2.064456e-03  1.418038e-03  0.000714   0.000193   \n",
       "review_4   0.008599  1.904449e-03  1.738051e-03  0.000234   0.000193   \n",
       "review_5   0.008961  1.144768e-03  8.985102e-04  0.000834  -0.000007   \n",
       "review_6   1.000000  1.863820e-03  1.937173e-03  0.000594   0.001192   \n",
       "review_7   0.001864  1.000000e+00 -1.604372e-03 -0.000401   0.000119   \n",
       "review_8   0.001937 -1.604372e-03  1.000000e+00 -0.000402  -0.000842   \n",
       "review_9   0.000594 -4.011271e-04 -4.015885e-04  1.000000   0.000599   \n",
       "review_10  0.001192  1.185218e-04 -8.420861e-04  0.000599   1.000000   \n",
       "review_11  0.000206 -3.188742e-04 -3.984141e-04  0.000480   0.000121   \n",
       "review_12  0.000398 -8.403533e-04 -2.804969e-04 -0.000040  -0.000640   \n",
       "review_13  0.000524 -1.592963e-04  9.920031e-07  0.000320  -0.000120   \n",
       "review_14 -0.000477 -1.193666e-04 -8.391098e-04 -0.000040  -0.000320   \n",
       "review_15 -0.000277  5.632009e-07  7.207959e-04  0.000960  -0.000120   \n",
       "sentiment  0.004600 -1.360002e-03 -8.080025e-03 -0.003600   0.011560   \n",
       "\n",
       "           review_11     review_12     review_13     review_14     review_15  \\\n",
       "review_0   -0.000583  1.003692e-04 -2.430419e-04 -2.145074e-04 -1.013659e-04   \n",
       "review_1   -0.000332  1.655151e-05 -1.598374e-04 -3.846491e-04  6.645615e-05   \n",
       "review_2    0.000206 -8.193181e-05 -5.161680e-04 -9.565741e-04 -9.169579e-04   \n",
       "review_3    0.000086 -6.818029e-04 -7.645102e-05  7.632269e-04 -7.716145e-05   \n",
       "review_4    0.000086  2.782350e-04  2.435616e-04 -3.568173e-04  5.628638e-04   \n",
       "review_5    0.000046  1.582700e-04 -3.565415e-04  3.231370e-04  1.227822e-04   \n",
       "review_6    0.000206  3.981690e-04  5.237184e-04 -4.766940e-04 -2.770550e-04   \n",
       "review_7   -0.000319 -8.403533e-04 -1.592963e-04 -1.193666e-04  5.632009e-07   \n",
       "review_8   -0.000398 -2.804969e-04  9.920031e-07 -8.391098e-04  7.207959e-04   \n",
       "review_9    0.000480 -4.012801e-05  3.202561e-04 -3.976961e-05  9.602050e-04   \n",
       "review_10   0.000121 -6.401682e-04 -1.196641e-04 -3.196977e-04 -1.197312e-04   \n",
       "review_11   1.000000 -5.198721e-04  7.974402e-05  6.797698e-04  6.397954e-04   \n",
       "review_12  -0.000520  1.000000e+00  4.400800e-04  7.200001e-08  1.200640e-04   \n",
       "review_13   0.000080  4.400800e-04  1.000000e+00  6.798561e-04 -4.801281e-04   \n",
       "review_14   0.000680  7.200001e-08  6.798561e-04  1.000000e+00  1.198848e-04   \n",
       "review_15   0.000640  1.200640e-04 -4.801281e-04  1.198848e-04  1.000000e+00   \n",
       "sentiment   0.001120 -5.160000e-03  5.200000e-03 -1.800000e-03  1.368000e-02   \n",
       "\n",
       "           sentiment  \n",
       "review_0   -0.003765  \n",
       "review_1   -0.009759  \n",
       "review_2    0.006280  \n",
       "review_3    0.000720  \n",
       "review_4    0.008880  \n",
       "review_5    0.009320  \n",
       "review_6    0.004600  \n",
       "review_7   -0.001360  \n",
       "review_8   -0.008080  \n",
       "review_9   -0.003600  \n",
       "review_10   0.011560  \n",
       "review_11   0.001120  \n",
       "review_12  -0.005160  \n",
       "review_13   0.005200  \n",
       "review_14  -0.001800  \n",
       "review_15   0.013680  \n",
       "sentiment   1.000000  "
      ]
     },
     "execution_count": 20,
     "metadata": {},
     "output_type": "execute_result"
    }
   ],
   "source": [
    "df.corr()"
   ]
  },
  {
   "cell_type": "code",
   "execution_count": 21,
   "id": "d9970108",
   "metadata": {},
   "outputs": [
    {
     "data": {
      "text/plain": [
       "<AxesSubplot:>"
      ]
     },
     "execution_count": 21,
     "metadata": {},
     "output_type": "execute_result"
    },
    {
     "data": {
      "image/png": "[encoded data removed]",
      "text/plain": [
       "<Figure size 1080x720 with 2 Axes>"
      ]
     },
     "metadata": {
      "needs_background": "light"
     },
     "output_type": "display_data"
    }
   ],
   "source": [
    "plt.figure(figsize=(15,10))\n",
    "sns.heatmap(df.corr(),annot=True,cmap='coolwarm')"
   ]
  },
  {
   "cell_type": "code",
   "execution_count": 22,
   "id": "ba39e919",
   "metadata": {},
   "outputs": [],
   "source": [
    "X=df.drop('sentiment',axis=1)\n",
    "Y=df['sentiment']"
   ]
  },
  {
   "cell_type": "code",
   "execution_count": 23,
   "id": "7d8e6027",
   "metadata": {},
   "outputs": [],
   "source": [
    "from sklearn.preprocessing import StandardScaler\n",
    "from sklearn.linear_model import LogisticRegression\n",
    "from sklearn.model_selection import train_test_split\n",
    "from sklearn.metrics import accuracy_score, confusion_matrix,classification_report\n",
    "from sklearn.model_selection import cross_val_score"
   ]
  },
  {
   "cell_type": "code",
   "execution_count": 24,
   "id": "7c1d0af5",
   "metadata": {},
   "outputs": [],
   "source": [
    "scaller=StandardScaler()\n",
    "X_scaled=scaller.fit_transform(X)"
   ]
  },
  {
   "cell_type": "code",
   "execution_count": 25,
   "id": "1140a7f3",
   "metadata": {},
   "outputs": [
    {
     "name": "stdout",
     "output_type": "stream",
     "text": [
      "Training feature matrix size: (37500, 16)\n",
      "Training target vector size: (37500,)\n",
      "Test feature matrix size: (12500, 16)\n",
      "Test target vector size: (12500,)\n"
     ]
    }
   ],
   "source": [
    "X_train, X_test, Y_train, Y_test = train_test_split(X, Y, random_state=67, test_size=.25)\n",
    "print('Training feature matrix size:',X_train.shape)\n",
    "print('Training target vector size:',Y_train.shape)\n",
    "print('Test feature matrix size:',X_test.shape)\n",
    "print('Test target vector size:',Y_test.shape)"
   ]
  },
  {
   "cell_type": "code",
   "execution_count": 26,
   "id": "2ab518e8",
   "metadata": {},
   "outputs": [
    {
     "name": "stdout",
     "output_type": "stream",
     "text": [
      "Best accuracy is 0.5188666666666667 on Random_state 235\n"
     ]
    }
   ],
   "source": [
    "maxAccu=0\n",
    "maxRS=0\n",
    "for i in range(50,300):\n",
    "    X_train,X_test,Y_train,Y_test = train_test_split(X_scaled,Y,test_size = 0.3, random_state=i)\n",
    "    log_reg=LogisticRegression()\n",
    "    log_reg.fit(X_train,Y_train)\n",
    "    y_pred=log_reg.predict(X_test)\n",
    "    acc=accuracy_score(Y_test,y_pred)\n",
    "    if acc>maxAccu:\n",
    "        maxAccu=acc\n",
    "        maxRS=i\n",
    "print('Best accuracy is', maxAccu ,'on Random_state', maxRS)"
   ]
  },
  {
   "cell_type": "code",
   "execution_count": 27,
   "id": "e0d6afdf",
   "metadata": {},
   "outputs": [
    {
     "name": "stdout",
     "output_type": "stream",
     "text": [
      "\u001b[1mLogistics Regression Evaluation\u001b[0m\n",
      "\n",
      "\n",
      "\u001b[1mAccuracy Score of Logistics Regression :\u001b[0m 0.5188666666666667\n",
      "\n",
      "\n",
      "\u001b[1mConfusion matrix of Logistics Regression :\u001b[0m \n",
      " [[3572 3975]\n",
      " [3242 4211]]\n",
      "\n",
      "\n",
      "\u001b[1mclassification Report of Logistics Regression\u001b[0m \n",
      "               precision    recall  f1-score   support\n",
      "\n",
      "           0       0.52      0.47      0.50      7547\n",
      "           1       0.51      0.57      0.54      7453\n",
      "\n",
      "    accuracy                           0.52     15000\n",
      "   macro avg       0.52      0.52      0.52     15000\n",
      "weighted avg       0.52      0.52      0.52     15000\n",
      "\n"
     ]
    }
   ],
   "source": [
    "X_train, X_test, Y_train, Y_test = train_test_split(X_scaled, Y, random_state=235, test_size=0.3)\n",
    "log_reg=LogisticRegression()\n",
    "log_reg.fit(X_train,Y_train)\n",
    "y_pred=log_reg.predict(X_test)\n",
    "print('\\033[1m'+'Logistics Regression Evaluation'+'\\033[0m')\n",
    "print('\\n')\n",
    "print('\\033[1m'+'Accuracy Score of Logistics Regression :'+'\\033[0m', accuracy_score(Y_test, y_pred))\n",
    "print('\\n')\n",
    "print('\\033[1m'+'Confusion matrix of Logistics Regression :'+'\\033[0m \\n',confusion_matrix(Y_test, y_pred))\n",
    "print('\\n')\n",
    "print('\\033[1m'+'classification Report of Logistics Regression'+'\\033[0m \\n',classification_report(Y_test, y_pred))"
   ]
  },
  {
   "cell_type": "code",
   "execution_count": 28,
   "id": "9865e228",
   "metadata": {},
   "outputs": [
    {
     "name": "stdout",
     "output_type": "stream",
     "text": [
      "\u001b[1mCross Validation Score LogisticRegression() :\u001b[0m\n",
      "\n",
      "CVScore : [0.50260995 0.50176996 0.50174007]\n",
      "Mean CV Score : 0.5020399940015121\n",
      "Std deviation : 0.00040320294966337297\n"
     ]
    }
   ],
   "source": [
    "CVscore = cross_val_score(log_reg, X_scaled, Y, cv =3)\n",
    "print('\\033[1m'+'Cross Validation Score', log_reg, ':'+'\\033[0m\\n')\n",
    "print(\"CVScore :\" ,CVscore)\n",
    "print(\"Mean CV Score :\",CVscore.mean())\n",
    "print(\"Std deviation :\",CVscore.std())"
   ]
  },
  {
   "cell_type": "code",
   "execution_count": 29,
   "id": "988d3af7",
   "metadata": {},
   "outputs": [],
   "source": [
    "from sklearn.tree import DecisionTreeClassifier\n",
    "from sklearn.neighbors import KNeighborsClassifier\n",
    "from sklearn.ensemble import RandomForestClassifier"
   ]
  },
  {
   "cell_type": "code",
   "execution_count": 30,
   "id": "bb7445c1",
   "metadata": {},
   "outputs": [
    {
     "name": "stdout",
     "output_type": "stream",
     "text": [
      "\u001b[1mK Neighbors Classifier\u001b[0m\n",
      "\n",
      "\n",
      "\u001b[1mAccuracy Score of KNeighborsClassifier :\u001b[0m 0.507\n",
      "\n",
      "\n",
      "\u001b[1mConfusion matrix of Logistics Regression :\u001b[0m \n",
      " [[3848 3699]\n",
      " [3696 3757]]\n",
      "\n",
      "\n",
      "\u001b[1mclassification Report of Logistics Regression\u001b[0m \n",
      "               precision    recall  f1-score   support\n",
      "\n",
      "           0       0.51      0.51      0.51      7547\n",
      "           1       0.50      0.50      0.50      7453\n",
      "\n",
      "    accuracy                           0.51     15000\n",
      "   macro avg       0.51      0.51      0.51     15000\n",
      "weighted avg       0.51      0.51      0.51     15000\n",
      "\n"
     ]
    }
   ],
   "source": [
    "knn=KNeighborsClassifier()\n",
    "knn.fit(X_train,Y_train)\n",
    "y_pred=knn.predict(X_test)\n",
    "print('\\033[1m'+'K Neighbors Classifier'+'\\033[0m')\n",
    "print('\\n')\n",
    "print('\\033[1m'+'Accuracy Score of KNeighborsClassifier :'+'\\033[0m', accuracy_score(Y_test, y_pred))\n",
    "print('\\n')\n",
    "print('\\033[1m'+'Confusion matrix of Logistics Regression :'+'\\033[0m \\n',confusion_matrix(Y_test, y_pred))\n",
    "print('\\n')\n",
    "print('\\033[1m'+'classification Report of Logistics Regression'+'\\033[0m \\n',classification_report(Y_test, y_pred))"
   ]
  },
  {
   "cell_type": "code",
   "execution_count": 31,
   "id": "d94b96c4",
   "metadata": {},
   "outputs": [
    {
     "name": "stdout",
     "output_type": "stream",
     "text": [
      "\u001b[1mCross Validation Score KNeighborsClassifier() :\u001b[0m\n",
      "\n",
      "CVScore : [0.49673007 0.49631007 0.5073803 ]\n",
      "Mean CV Score : 0.5001401448030082\n",
      "Std deviation : 0.005122429872146706\n"
     ]
    }
   ],
   "source": [
    "CVscore = cross_val_score(knn, X_scaled, Y, cv =3)\n",
    "print('\\033[1m'+'Cross Validation Score', knn, ':'+'\\033[0m\\n')\n",
    "print(\"CVScore :\" ,CVscore)\n",
    "print(\"Mean CV Score :\",CVscore.mean())\n",
    "print(\"Std deviation :\",CVscore.std())"
   ]
  },
  {
   "cell_type": "code",
   "execution_count": 32,
   "id": "96b32db6",
   "metadata": {},
   "outputs": [
    {
     "name": "stdout",
     "output_type": "stream",
     "text": [
      "\u001b[1mDecision Tree Classifier Evaluation\u001b[0m\n",
      "\n",
      "\n",
      "\u001b[1mAccuracy Score of Decision Tree Classifier :\u001b[0m 0.5066666666666667\n",
      "\n",
      "\n",
      "\u001b[1mConfusion matrix of Decision Tree Classifier :\u001b[0m \n",
      " [[3813 3734]\n",
      " [3666 3787]]\n",
      "\n",
      "\n",
      "\u001b[1mclassification Report of Decision Tree Classifier\u001b[0m \n",
      "               precision    recall  f1-score   support\n",
      "\n",
      "           0       0.51      0.51      0.51      7547\n",
      "           1       0.50      0.51      0.51      7453\n",
      "\n",
      "    accuracy                           0.51     15000\n",
      "   macro avg       0.51      0.51      0.51     15000\n",
      "weighted avg       0.51      0.51      0.51     15000\n",
      "\n"
     ]
    }
   ],
   "source": [
    "dtc=DecisionTreeClassifier()\n",
    "dtc.fit(X_train,Y_train)\n",
    "y_pred=dtc.predict(X_test)\n",
    "print('\\033[1m'+'Decision Tree Classifier Evaluation'+'\\033[0m')\n",
    "print('\\n')\n",
    "print('\\033[1m'+'Accuracy Score of Decision Tree Classifier :'+'\\033[0m', accuracy_score(Y_test, y_pred))\n",
    "print('\\n')\n",
    "print('\\033[1m'+'Confusion matrix of Decision Tree Classifier :'+'\\033[0m \\n',confusion_matrix(Y_test, y_pred))\n",
    "print('\\n')\n",
    "print('\\033[1m'+'classification Report of Decision Tree Classifier'+'\\033[0m \\n',classification_report(Y_test, y_pred))"
   ]
  },
  {
   "cell_type": "code",
   "execution_count": 33,
   "id": "9e442e2e",
   "metadata": {},
   "outputs": [
    {
     "name": "stdout",
     "output_type": "stream",
     "text": [
      "\u001b[1mCross Validation Score DecisionTreeClassifier() :\u001b[0m\n",
      "\n",
      "CVScore : [0.50386992 0.50926981 0.51230049]\n",
      "Mean CV Score : 0.5084800764083122\n",
      "Std deviation : 0.0034867740574384964\n"
     ]
    }
   ],
   "source": [
    "CVscore = cross_val_score(dtc, X_scaled, Y, cv =3)\n",
    "print('\\033[1m'+'Cross Validation Score', dtc, ':'+'\\033[0m\\n')\n",
    "print(\"CVScore :\" ,CVscore)\n",
    "print(\"Mean CV Score :\",CVscore.mean())\n",
    "print(\"Std deviation :\",CVscore.std())"
   ]
  },
  {
   "cell_type": "code",
   "execution_count": 34,
   "id": "54f7cd43",
   "metadata": {},
   "outputs": [
    {
     "name": "stdout",
     "output_type": "stream",
     "text": [
      "\u001b[1mRandom Forest Classifier Evaluation\u001b[0m\n",
      "\n",
      "\n",
      "\u001b[1mAccuracy Score of Random Forest Classifier :\u001b[0m 0.5138666666666667\n",
      "\n",
      "\n",
      "\u001b[1mConfusion matrix of Random Forest Classifier :\u001b[0m \n",
      " [[3998 3549]\n",
      " [3743 3710]]\n",
      "\n",
      "\n",
      "\u001b[1mclassification Report ofRandom Forest Classifier\u001b[0m \n",
      "               precision    recall  f1-score   support\n",
      "\n",
      "           0       0.52      0.53      0.52      7547\n",
      "           1       0.51      0.50      0.50      7453\n",
      "\n",
      "    accuracy                           0.51     15000\n",
      "   macro avg       0.51      0.51      0.51     15000\n",
      "weighted avg       0.51      0.51      0.51     15000\n",
      "\n"
     ]
    }
   ],
   "source": [
    "rfr=RandomForestClassifier()\n",
    "rfr.fit(X_train,Y_train)\n",
    "y_pred=rfr.predict(X_test)\n",
    "print('\\033[1m'+'Random Forest Classifier Evaluation'+'\\033[0m')\n",
    "print('\\n')\n",
    "print('\\033[1m'+'Accuracy Score of Random Forest Classifier :'+'\\033[0m', accuracy_score(Y_test, y_pred))\n",
    "print('\\n')\n",
    "print('\\033[1m'+'Confusion matrix of Random Forest Classifier :'+'\\033[0m \\n',confusion_matrix(Y_test, y_pred))\n",
    "print('\\n')\n",
    "print('\\033[1m'+'classification Report ofRandom Forest Classifier'+'\\033[0m \\n',classification_report(Y_test, y_pred))"
   ]
  },
  {
   "cell_type": "code",
   "execution_count": 40,
   "id": "564f3e31",
   "metadata": {},
   "outputs": [
    {
     "name": "stdout",
     "output_type": "stream",
     "text": [
      "Collecting xgboost\n",
      "  Downloading xgboost-2.0.3-py3-none-win_amd64.whl (99.8 MB)\n",
      "Requirement already satisfied: scipy in c:\\users\\gagan\\anaconda3\\lib\\site-packages (from xgboost) (1.7.3)\n",
      "Requirement already satisfied: numpy in c:\\users\\gagan\\anaconda3\\lib\\site-packages (from xgboost) (1.21.5)\n",
      "Installing collected packages: xgboost\n",
      "Successfully installed xgboost-2.0.3\n"
     ]
    }
   ],
   "source": [
    "!pip install xgboost"
   ]
  },
  {
   "cell_type": "code",
   "execution_count": 41,
   "id": "c9d7a015",
   "metadata": {},
   "outputs": [],
   "source": [
    "import xgboost as xgb"
   ]
  },
  {
   "cell_type": "code",
   "execution_count": 42,
   "id": "2347fbc1",
   "metadata": {},
   "outputs": [
    {
     "name": "stdout",
     "output_type": "stream",
     "text": [
      "\u001b[1mXGB Classifier Evaluation\u001b[0m\n",
      "\n",
      "\n",
      "\u001b[1mAccuracy Score of XGB Classifier Evaluation :\u001b[0m 0.5138666666666667\n",
      "\n",
      "\n",
      "\u001b[1mConfusion matrix of XGB Classifier Evaluation:\u001b[0m \n",
      " [[3998 3549]\n",
      " [3743 3710]]\n",
      "\n",
      "\n",
      "\u001b[1mclassification Report ofXGB Classifier Evaluation\u001b[0m \n",
      "               precision    recall  f1-score   support\n",
      "\n",
      "           0       0.52      0.53      0.52      7547\n",
      "           1       0.51      0.50      0.50      7453\n",
      "\n",
      "    accuracy                           0.51     15000\n",
      "   macro avg       0.51      0.51      0.51     15000\n",
      "weighted avg       0.51      0.51      0.51     15000\n",
      "\n"
     ]
    }
   ],
   "source": [
    "XGB=xgb.XGBClassifier()\n",
    "XGB.fit(X_train,Y_train)\n",
    "y_pred=rfr.predict(X_test)\n",
    "print('\\033[1m'+'XGB Classifier Evaluation'+'\\033[0m')\n",
    "print('\\n')\n",
    "print('\\033[1m'+'Accuracy Score of XGB Classifier Evaluation :'+'\\033[0m', accuracy_score(Y_test, y_pred))\n",
    "print('\\n')\n",
    "print('\\033[1m'+'Confusion matrix of XGB Classifier Evaluation:'+'\\033[0m \\n',confusion_matrix(Y_test, y_pred))\n",
    "print('\\n')\n",
    "print('\\033[1m'+'classification Report ofXGB Classifier Evaluation'+'\\033[0m \\n',classification_report(Y_test, y_pred))"
   ]
  },
  {
   "cell_type": "code",
   "execution_count": 43,
   "id": "c0ea60c1",
   "metadata": {},
   "outputs": [
    {
     "name": "stdout",
     "output_type": "stream",
     "text": [
      "\u001b[1mCross Validation Score XGBClassifier(base_score=None, booster=None, callbacks=None,\n",
      "              colsample_bylevel=None, colsample_bynode=None,\n",
      "              colsample_bytree=None, device=None, early_stopping_rounds=None,\n",
      "              enable_categorical=False, eval_metric=None, feature_types=None,\n",
      "              gamma=None, grow_policy=None, importance_type=None,\n",
      "              interaction_constraints=None, learning_rate=None, max_bin=None,\n",
      "              max_cat_threshold=None, max_cat_to_onehot=None,\n",
      "              max_delta_step=None, max_depth=None, max_leaves=None,\n",
      "              min_child_weight=None, missing=nan, monotone_constraints=None,\n",
      "              multi_strategy=None, n_estimators=None, n_jobs=None,\n",
      "              num_parallel_tree=None, random_state=None, ...) :\u001b[0m\n",
      "\n",
      "CVScore : [0.5050699  0.49961001 0.50840034]\n",
      "Mean CV Score : 0.5043600808051042\n",
      "Std deviation : 0.0036235662455938273\n"
     ]
    }
   ],
   "source": [
    "CVscore = cross_val_score(XGB, X_scaled, Y, cv =3)\n",
    "print('\\033[1m'+'Cross Validation Score', XGB, ':'+'\\033[0m\\n')\n",
    "print(\"CVScore :\" ,CVscore)\n",
    "print(\"Mean CV Score :\",CVscore.mean())\n",
    "print(\"Std deviation :\",CVscore.std())"
   ]
  },
  {
   "cell_type": "markdown",
   "id": "c7fdc04e",
   "metadata": {},
   "source": [
    "# Now lets do hyper parameter tunning and see whether we will be able to increase score or not"
   ]
  },
  {
   "cell_type": "code",
   "execution_count": 44,
   "id": "5098d2aa",
   "metadata": {},
   "outputs": [],
   "source": [
    "from sklearn.model_selection import GridSearchCV"
   ]
  },
  {
   "cell_type": "code",
   "execution_count": 45,
   "id": "e49a2c32",
   "metadata": {},
   "outputs": [],
   "source": [
    "grid_param= {\n",
    "    'criterion' : ['ginny','entropy'],\n",
    "    'max_depth' : range(5,10),\n",
    "    'min_samples_leaf': range(3,6),\n",
    "    'min_samples_split': range(3,8),\n",
    "    'max_leaf_nodes':range(4,10)\n",
    "}"
   ]
  },
  {
   "cell_type": "code",
   "execution_count": 46,
   "id": "ff1e7239",
   "metadata": {},
   "outputs": [],
   "source": [
    "grid_search=GridSearchCV(estimator=dtc,\n",
    "                         param_grid=grid_param,\n",
    "                        cv=5,n_jobs=-1)"
   ]
  },
  {
   "cell_type": "code",
   "execution_count": 47,
   "id": "50b3a11c",
   "metadata": {},
   "outputs": [
    {
     "data": {
      "text/plain": [
       "GridSearchCV(cv=5, estimator=DecisionTreeClassifier(), n_jobs=-1,\n",
       "             param_grid={'criterion': ['ginny', 'entropy'],\n",
       "                         'max_depth': range(5, 10),\n",
       "                         'max_leaf_nodes': range(4, 10),\n",
       "                         'min_samples_leaf': range(3, 6),\n",
       "                         'min_samples_split': range(3, 8)})"
      ]
     },
     "execution_count": 47,
     "metadata": {},
     "output_type": "execute_result"
    }
   ],
   "source": [
    "grid_search.fit(X_train,Y_train)"
   ]
  },
  {
   "cell_type": "code",
   "execution_count": 48,
   "id": "5985e2e1",
   "metadata": {},
   "outputs": [
    {
     "data": {
      "text/plain": [
       "{'criterion': 'entropy',\n",
       " 'max_depth': 6,\n",
       " 'max_leaf_nodes': 7,\n",
       " 'min_samples_leaf': 3,\n",
       " 'min_samples_split': 3}"
      ]
     },
     "execution_count": 48,
     "metadata": {},
     "output_type": "execute_result"
    }
   ],
   "source": [
    "grid_search.best_params_"
   ]
  },
  {
   "cell_type": "code",
   "execution_count": 64,
   "id": "da50452c",
   "metadata": {},
   "outputs": [
    {
     "data": {
      "text/plain": [
       "DecisionTreeClassifier(criterion='entropy', max_depth=10, max_leaf_nodes=10,\n",
       "                       min_samples_leaf=6, min_samples_split=7)"
      ]
     },
     "execution_count": 64,
     "metadata": {},
     "output_type": "execute_result"
    }
   ],
   "source": [
    "clf=DecisionTreeClassifier(criterion = 'entropy', max_depth= 10, min_samples_leaf= 6, min_samples_split= 7,max_leaf_nodes= 10 )\n",
    "clf.fit(X_train,Y_train)"
   ]
  },
  {
   "cell_type": "code",
   "execution_count": 65,
   "id": "6d9dbbdd",
   "metadata": {},
   "outputs": [],
   "source": [
    "y_pred=clf.predict(X_test)"
   ]
  },
  {
   "cell_type": "code",
   "execution_count": 66,
   "id": "b6267b16",
   "metadata": {},
   "outputs": [
    {
     "data": {
      "text/plain": [
       "0.5094"
      ]
     },
     "execution_count": 66,
     "metadata": {},
     "output_type": "execute_result"
    }
   ],
   "source": [
    "acc_score=accuracy_score(Y_test,y_pred)\n",
    "acc_score"
   ]
  },
  {
   "cell_type": "markdown",
   "id": "8834bd5a",
   "metadata": {},
   "source": [
    "# We can see that score improve little bit lets try for random forest"
   ]
  },
  {
   "cell_type": "code",
   "execution_count": 67,
   "id": "901d090e",
   "metadata": {},
   "outputs": [],
   "source": [
    "grid_search=GridSearchCV(estimator=rfr,\n",
    "                         param_grid=grid_param,\n",
    "                        cv=5,n_jobs=-1)"
   ]
  },
  {
   "cell_type": "code",
   "execution_count": 68,
   "id": "18132ca8",
   "metadata": {},
   "outputs": [
    {
     "data": {
      "text/plain": [
       "GridSearchCV(cv=5, estimator=RandomForestClassifier(), n_jobs=-1,\n",
       "             param_grid={'criterion': ['ginny', 'entropy'],\n",
       "                         'max_depth': range(5, 10),\n",
       "                         'max_leaf_nodes': range(4, 10),\n",
       "                         'min_samples_leaf': range(3, 6),\n",
       "                         'min_samples_split': range(3, 8)})"
      ]
     },
     "execution_count": 68,
     "metadata": {},
     "output_type": "execute_result"
    }
   ],
   "source": [
    "grid_search.fit(X_train,Y_train)"
   ]
  },
  {
   "cell_type": "code",
   "execution_count": 69,
   "id": "96f39676",
   "metadata": {},
   "outputs": [
    {
     "data": {
      "text/plain": [
       "{'criterion': 'entropy',\n",
       " 'max_depth': 6,\n",
       " 'max_leaf_nodes': 7,\n",
       " 'min_samples_leaf': 4,\n",
       " 'min_samples_split': 4}"
      ]
     },
     "execution_count": 69,
     "metadata": {},
     "output_type": "execute_result"
    }
   ],
   "source": [
    "grid_search.best_params_"
   ]
  },
  {
   "cell_type": "code",
   "execution_count": 71,
   "id": "621fc612",
   "metadata": {},
   "outputs": [
    {
     "data": {
      "text/plain": [
       "RandomForestClassifier(criterion='entropy', max_depth=6, max_leaf_nodes=7,\n",
       "                       min_samples_leaf=4, min_samples_split=4)"
      ]
     },
     "execution_count": 71,
     "metadata": {},
     "output_type": "execute_result"
    }
   ],
   "source": [
    "clf=RandomForestClassifier(criterion = 'entropy', max_depth= 6, min_samples_leaf= 4, min_samples_split= 4,max_leaf_nodes= 7 )\n",
    "clf.fit(X_train,Y_train)"
   ]
  },
  {
   "cell_type": "code",
   "execution_count": 72,
   "id": "72b11b78",
   "metadata": {},
   "outputs": [],
   "source": [
    "y_pred=clf.predict(X_test)"
   ]
  },
  {
   "cell_type": "code",
   "execution_count": 73,
   "id": "19094d39",
   "metadata": {},
   "outputs": [
    {
     "data": {
      "text/plain": [
       "0.5108"
      ]
     },
     "execution_count": 73,
     "metadata": {},
     "output_type": "execute_result"
    }
   ],
   "source": [
    "acc_score=accuracy_score(Y_test,y_pred)\n",
    "acc_score"
   ]
  },
  {
   "cell_type": "markdown",
   "id": "a1733338",
   "metadata": {},
   "source": [
    "# After hyper parameter tunning score increases thats great"
   ]
  }
 ],
 "metadata": {
  "kernelspec": {
   "display_name": "Python 3 (ipykernel)",
   "language": "python",
   "name": "python3"
  },
  "language_info": {
   "codemirror_mode": {
    "name": "ipython",
    "version": 3
   },
   "file_extension": ".py",
   "mimetype": "text/x-python",
   "name": "python",
   "nbconvert_exporter": "python",
   "pygments_lexer": "ipython3",
   "version": "3.9.12"
  }
 },
 "nbformat": 4,
 "nbformat_minor": 5
}
