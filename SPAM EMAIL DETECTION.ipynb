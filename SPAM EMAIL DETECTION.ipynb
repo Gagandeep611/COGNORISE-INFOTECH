{
 "cells": [
  {
   "cell_type": "code",
   "execution_count": 1,
   "id": "24aa1789",
   "metadata": {},
   "outputs": [],
   "source": [
    "import pandas as pd\n",
    "import numpy as np\n",
    "import matplotlib.pyplot as plt\n",
    "import seaborn as sns\n",
    "import warnings\n",
    "warnings.filterwarnings('ignore')"
   ]
  },
  {
   "cell_type": "code",
   "execution_count": 2,
   "id": "a61fd272",
   "metadata": {},
   "outputs": [
    {
     "data": {
      "text/html": [
       "<div>\n",
       "<style scoped>\n",
       "    .dataframe tbody tr th:only-of-type {\n",
       "        vertical-align: middle;\n",
       "    }\n",
       "\n",
       "    .dataframe tbody tr th {\n",
       "        vertical-align: top;\n",
       "    }\n",
       "\n",
       "    .dataframe thead th {\n",
       "        text-align: right;\n",
       "    }\n",
       "</style>\n",
       "<table border=\"1\" class=\"dataframe\">\n",
       "  <thead>\n",
       "    <tr style=\"text-align: right;\">\n",
       "      <th></th>\n",
       "      <th>Category</th>\n",
       "      <th>Message</th>\n",
       "    </tr>\n",
       "  </thead>\n",
       "  <tbody>\n",
       "    <tr>\n",
       "      <th>0</th>\n",
       "      <td>ham</td>\n",
       "      <td>Go until jurong point, crazy.. Available only ...</td>\n",
       "    </tr>\n",
       "    <tr>\n",
       "      <th>1</th>\n",
       "      <td>ham</td>\n",
       "      <td>Ok lar... Joking wif u oni...</td>\n",
       "    </tr>\n",
       "    <tr>\n",
       "      <th>2</th>\n",
       "      <td>spam</td>\n",
       "      <td>Free entry in 2 a wkly comp to win FA Cup fina...</td>\n",
       "    </tr>\n",
       "    <tr>\n",
       "      <th>3</th>\n",
       "      <td>ham</td>\n",
       "      <td>U dun say so early hor... U c already then say...</td>\n",
       "    </tr>\n",
       "    <tr>\n",
       "      <th>4</th>\n",
       "      <td>ham</td>\n",
       "      <td>Nah I don't think he goes to usf, he lives aro...</td>\n",
       "    </tr>\n",
       "    <tr>\n",
       "      <th>...</th>\n",
       "      <td>...</td>\n",
       "      <td>...</td>\n",
       "    </tr>\n",
       "    <tr>\n",
       "      <th>5567</th>\n",
       "      <td>spam</td>\n",
       "      <td>This is the 2nd time we have tried 2 contact u...</td>\n",
       "    </tr>\n",
       "    <tr>\n",
       "      <th>5568</th>\n",
       "      <td>ham</td>\n",
       "      <td>Will ü b going to esplanade fr home?</td>\n",
       "    </tr>\n",
       "    <tr>\n",
       "      <th>5569</th>\n",
       "      <td>ham</td>\n",
       "      <td>Pity, * was in mood for that. So...any other s...</td>\n",
       "    </tr>\n",
       "    <tr>\n",
       "      <th>5570</th>\n",
       "      <td>ham</td>\n",
       "      <td>The guy did some bitching but I acted like i'd...</td>\n",
       "    </tr>\n",
       "    <tr>\n",
       "      <th>5571</th>\n",
       "      <td>ham</td>\n",
       "      <td>Rofl. Its true to its name</td>\n",
       "    </tr>\n",
       "  </tbody>\n",
       "</table>\n",
       "<p>5572 rows × 2 columns</p>\n",
       "</div>"
      ],
      "text/plain": [
       "     Category                                            Message\n",
       "0         ham  Go until jurong point, crazy.. Available only ...\n",
       "1         ham                      Ok lar... Joking wif u oni...\n",
       "2        spam  Free entry in 2 a wkly comp to win FA Cup fina...\n",
       "3         ham  U dun say so early hor... U c already then say...\n",
       "4         ham  Nah I don't think he goes to usf, he lives aro...\n",
       "...       ...                                                ...\n",
       "5567     spam  This is the 2nd time we have tried 2 contact u...\n",
       "5568      ham               Will ü b going to esplanade fr home?\n",
       "5569      ham  Pity, * was in mood for that. So...any other s...\n",
       "5570      ham  The guy did some bitching but I acted like i'd...\n",
       "5571      ham                         Rofl. Its true to its name\n",
       "\n",
       "[5572 rows x 2 columns]"
      ]
     },
     "execution_count": 2,
     "metadata": {},
     "output_type": "execute_result"
    }
   ],
   "source": [
    "df=pd.read_csv(r'C:\\Users\\Gagan\\Downloads/spam.csv')\n",
    "df"
   ]
  },
  {
   "cell_type": "code",
   "execution_count": 3,
   "id": "be795451",
   "metadata": {},
   "outputs": [
    {
     "data": {
      "text/plain": [
       "(5572, 2)"
      ]
     },
     "execution_count": 3,
     "metadata": {},
     "output_type": "execute_result"
    }
   ],
   "source": [
    "df.shape"
   ]
  },
  {
   "cell_type": "code",
   "execution_count": 4,
   "id": "0629d335",
   "metadata": {},
   "outputs": [
    {
     "name": "stdout",
     "output_type": "stream",
     "text": [
      "<class 'pandas.core.frame.DataFrame'>\n",
      "RangeIndex: 5572 entries, 0 to 5571\n",
      "Data columns (total 2 columns):\n",
      " #   Column    Non-Null Count  Dtype \n",
      "---  ------    --------------  ----- \n",
      " 0   Category  5572 non-null   object\n",
      " 1   Message   5572 non-null   object\n",
      "dtypes: object(2)\n",
      "memory usage: 87.2+ KB\n"
     ]
    }
   ],
   "source": [
    "df.info()"
   ]
  },
  {
   "cell_type": "code",
   "execution_count": 5,
   "id": "ac229983",
   "metadata": {},
   "outputs": [
    {
     "data": {
      "text/plain": [
       "Category    object\n",
       "Message     object\n",
       "dtype: object"
      ]
     },
     "execution_count": 5,
     "metadata": {},
     "output_type": "execute_result"
    }
   ],
   "source": [
    "df.dtypes"
   ]
  },
  {
   "cell_type": "code",
   "execution_count": 6,
   "id": "d802d80b",
   "metadata": {},
   "outputs": [
    {
     "data": {
      "text/plain": [
       "Category    0\n",
       "Message     0\n",
       "dtype: int64"
      ]
     },
     "execution_count": 6,
     "metadata": {},
     "output_type": "execute_result"
    }
   ],
   "source": [
    "df.isnull().sum()"
   ]
  },
  {
   "cell_type": "code",
   "execution_count": 7,
   "id": "69bd0d17",
   "metadata": {},
   "outputs": [
    {
     "data": {
      "text/html": [
       "<div>\n",
       "<style scoped>\n",
       "    .dataframe tbody tr th:only-of-type {\n",
       "        vertical-align: middle;\n",
       "    }\n",
       "\n",
       "    .dataframe tbody tr th {\n",
       "        vertical-align: top;\n",
       "    }\n",
       "\n",
       "    .dataframe thead th {\n",
       "        text-align: right;\n",
       "    }\n",
       "</style>\n",
       "<table border=\"1\" class=\"dataframe\">\n",
       "  <thead>\n",
       "    <tr style=\"text-align: right;\">\n",
       "      <th></th>\n",
       "      <th>Category</th>\n",
       "      <th>Message</th>\n",
       "    </tr>\n",
       "  </thead>\n",
       "  <tbody>\n",
       "    <tr>\n",
       "      <th>0</th>\n",
       "      <td>ham</td>\n",
       "      <td>Go until jurong point, crazy.. Available only ...</td>\n",
       "    </tr>\n",
       "    <tr>\n",
       "      <th>1</th>\n",
       "      <td>ham</td>\n",
       "      <td>Ok lar... Joking wif u oni...</td>\n",
       "    </tr>\n",
       "    <tr>\n",
       "      <th>2</th>\n",
       "      <td>spam</td>\n",
       "      <td>Free entry in 2 a wkly comp to win FA Cup fina...</td>\n",
       "    </tr>\n",
       "    <tr>\n",
       "      <th>3</th>\n",
       "      <td>ham</td>\n",
       "      <td>U dun say so early hor... U c already then say...</td>\n",
       "    </tr>\n",
       "    <tr>\n",
       "      <th>4</th>\n",
       "      <td>ham</td>\n",
       "      <td>Nah I don't think he goes to usf, he lives aro...</td>\n",
       "    </tr>\n",
       "  </tbody>\n",
       "</table>\n",
       "</div>"
      ],
      "text/plain": [
       "  Category                                            Message\n",
       "0      ham  Go until jurong point, crazy.. Available only ...\n",
       "1      ham                      Ok lar... Joking wif u oni...\n",
       "2     spam  Free entry in 2 a wkly comp to win FA Cup fina...\n",
       "3      ham  U dun say so early hor... U c already then say...\n",
       "4      ham  Nah I don't think he goes to usf, he lives aro..."
      ]
     },
     "execution_count": 7,
     "metadata": {},
     "output_type": "execute_result"
    }
   ],
   "source": [
    "df.head()"
   ]
  },
  {
   "cell_type": "code",
   "execution_count": 8,
   "id": "6cdb95f0",
   "metadata": {},
   "outputs": [
    {
     "data": {
      "text/html": [
       "<div>\n",
       "<style scoped>\n",
       "    .dataframe tbody tr th:only-of-type {\n",
       "        vertical-align: middle;\n",
       "    }\n",
       "\n",
       "    .dataframe tbody tr th {\n",
       "        vertical-align: top;\n",
       "    }\n",
       "\n",
       "    .dataframe thead th {\n",
       "        text-align: right;\n",
       "    }\n",
       "</style>\n",
       "<table border=\"1\" class=\"dataframe\">\n",
       "  <thead>\n",
       "    <tr style=\"text-align: right;\">\n",
       "      <th></th>\n",
       "      <th>Category</th>\n",
       "      <th>Message</th>\n",
       "    </tr>\n",
       "  </thead>\n",
       "  <tbody>\n",
       "    <tr>\n",
       "      <th>5567</th>\n",
       "      <td>spam</td>\n",
       "      <td>This is the 2nd time we have tried 2 contact u...</td>\n",
       "    </tr>\n",
       "    <tr>\n",
       "      <th>5568</th>\n",
       "      <td>ham</td>\n",
       "      <td>Will ü b going to esplanade fr home?</td>\n",
       "    </tr>\n",
       "    <tr>\n",
       "      <th>5569</th>\n",
       "      <td>ham</td>\n",
       "      <td>Pity, * was in mood for that. So...any other s...</td>\n",
       "    </tr>\n",
       "    <tr>\n",
       "      <th>5570</th>\n",
       "      <td>ham</td>\n",
       "      <td>The guy did some bitching but I acted like i'd...</td>\n",
       "    </tr>\n",
       "    <tr>\n",
       "      <th>5571</th>\n",
       "      <td>ham</td>\n",
       "      <td>Rofl. Its true to its name</td>\n",
       "    </tr>\n",
       "  </tbody>\n",
       "</table>\n",
       "</div>"
      ],
      "text/plain": [
       "     Category                                            Message\n",
       "5567     spam  This is the 2nd time we have tried 2 contact u...\n",
       "5568      ham               Will ü b going to esplanade fr home?\n",
       "5569      ham  Pity, * was in mood for that. So...any other s...\n",
       "5570      ham  The guy did some bitching but I acted like i'd...\n",
       "5571      ham                         Rofl. Its true to its name"
      ]
     },
     "execution_count": 8,
     "metadata": {},
     "output_type": "execute_result"
    }
   ],
   "source": [
    "df.tail()"
   ]
  },
  {
   "cell_type": "code",
   "execution_count": 9,
   "id": "bf872173",
   "metadata": {},
   "outputs": [
    {
     "data": {
      "text/plain": [
       "<AxesSubplot:>"
      ]
     },
     "execution_count": 9,
     "metadata": {},
     "output_type": "execute_result"
    },
    {
     "data": {
      "image/png": "[encoded data removed]",
      "text/plain": [
       "<Figure size 432x288 with 2 Axes>"
      ]
     },
     "metadata": {
      "needs_background": "light"
     },
     "output_type": "display_data"
    }
   ],
   "source": [
    "sns.heatmap(df.isnull())"
   ]
  },
  {
   "cell_type": "code",
   "execution_count": 10,
   "id": "a8e4deab",
   "metadata": {},
   "outputs": [
    {
     "data": {
      "text/plain": [
       "ham     4825\n",
       "spam     747\n",
       "Name: Category, dtype: int64"
      ]
     },
     "execution_count": 10,
     "metadata": {},
     "output_type": "execute_result"
    }
   ],
   "source": [
    "df.Category.value_counts()"
   ]
  },
  {
   "cell_type": "code",
   "execution_count": 11,
   "id": "21ad22e3",
   "metadata": {},
   "outputs": [
    {
     "name": "stdout",
     "output_type": "stream",
     "text": [
      "ham     4825\n",
      "spam     747\n",
      "Name: Category, dtype: int64\n",
      "Sorry, I'll call later                                                                                                                                      30\n",
      "I cant pick the phone right now. Pls send a message                                                                                                         12\n",
      "Ok...                                                                                                                                                       10\n",
      "Ok                                                                                                                                                           4\n",
      "Ok.                                                                                                                                                          4\n",
      "                                                                                                                                                            ..\n",
      "I gotta collect da car at 6 lei.                                                                                                                             1\n",
      "No. On the way home. So if not for the long dry spell the season would have been over                                                                        1\n",
      "Urgent! Please call 09061743811 from landline. Your ABTA complimentary 4* Tenerife Holiday or £5000 cash await collection SAE T&Cs Box 326 CW25WX 150ppm     1\n",
      "I think asking for a gym is the excuse for lazy people. I jog.                                                                                               1\n",
      "Rofl. Its true to its name                                                                                                                                   1\n",
      "Name: Message, Length: 5157, dtype: int64\n"
     ]
    }
   ],
   "source": [
    "for i in df.columns:\n",
    "    print(df[i].value_counts())"
   ]
  },
  {
   "cell_type": "markdown",
   "id": "4c2b66b5",
   "metadata": {},
   "source": [
    "# the dataset contain 5572 rows × 2 columns check the data types and data type is object data type check the null values and drawn the heatrmap and no null values present in the dataset Also we can see that there is class imbalanced problem so we need to solve that also"
   ]
  },
  {
   "cell_type": "markdown",
   "id": "cea9d4e6",
   "metadata": {},
   "source": [
    "# LETS DRAW THE GRAPH AND OBSERVE THROUGH THE GRAPH"
   ]
  },
  {
   "cell_type": "code",
   "execution_count": 12,
   "id": "809dd1cf",
   "metadata": {},
   "outputs": [
    {
     "data": {
      "text/plain": [
       "<AxesSubplot:xlabel='Category', ylabel='count'>"
      ]
     },
     "execution_count": 12,
     "metadata": {},
     "output_type": "execute_result"
    },
    {
     "data": {
      "image/png": "[encoded data removed]",
      "text/plain": [
       "<Figure size 1080x720 with 1 Axes>"
      ]
     },
     "metadata": {
      "needs_background": "light"
     },
     "output_type": "display_data"
    }
   ],
   "source": [
    "plt.figure(figsize=(15,10))\n",
    "sns.countplot(x='Category',data=df)"
   ]
  },
  {
   "cell_type": "markdown",
   "id": "4a424f1c",
   "metadata": {},
   "source": [
    "# Clearly we can see that ther is a huge class difference and also we mention it earlier"
   ]
  },
  {
   "cell_type": "code",
   "execution_count": 18,
   "id": "90ffc9f6",
   "metadata": {},
   "outputs": [
    {
     "data": {
      "text/plain": [
       "<AxesSubplot:xlabel='Message', ylabel='Count'>"
      ]
     },
     "execution_count": 18,
     "metadata": {},
     "output_type": "execute_result"
    },
    {
     "data": {
      "image/png": "[encoded data removed]",
      "text/plain": [
       "<Figure size 2160x1440 with 1 Axes>"
      ]
     },
     "metadata": {
      "needs_background": "light"
     },
     "output_type": "display_data"
    }
   ],
   "source": [
    "plt.figure(figsize=(30,20))\n",
    "sns.histplot(x='Message',hue='Category',data=df)"
   ]
  },
  {
   "cell_type": "markdown",
   "id": "06de80e6",
   "metadata": {},
   "source": [
    "# Now we will convert the text data into numeric form and solve the problem of class difference also"
   ]
  },
  {
   "cell_type": "code",
   "execution_count": 19,
   "id": "33bfd83b",
   "metadata": {},
   "outputs": [],
   "source": [
    "df['Category'] = df['Category'].replace({'ham':0,'spam':1})"
   ]
  },
  {
   "cell_type": "code",
   "execution_count": 20,
   "id": "78f2556a",
   "metadata": {},
   "outputs": [
    {
     "data": {
      "text/html": [
       "<div>\n",
       "<style scoped>\n",
       "    .dataframe tbody tr th:only-of-type {\n",
       "        vertical-align: middle;\n",
       "    }\n",
       "\n",
       "    .dataframe tbody tr th {\n",
       "        vertical-align: top;\n",
       "    }\n",
       "\n",
       "    .dataframe thead th {\n",
       "        text-align: right;\n",
       "    }\n",
       "</style>\n",
       "<table border=\"1\" class=\"dataframe\">\n",
       "  <thead>\n",
       "    <tr style=\"text-align: right;\">\n",
       "      <th></th>\n",
       "      <th>Category</th>\n",
       "      <th>Message</th>\n",
       "    </tr>\n",
       "  </thead>\n",
       "  <tbody>\n",
       "    <tr>\n",
       "      <th>0</th>\n",
       "      <td>0</td>\n",
       "      <td>Go until jurong point, crazy.. Available only ...</td>\n",
       "    </tr>\n",
       "    <tr>\n",
       "      <th>1</th>\n",
       "      <td>0</td>\n",
       "      <td>Ok lar... Joking wif u oni...</td>\n",
       "    </tr>\n",
       "    <tr>\n",
       "      <th>2</th>\n",
       "      <td>1</td>\n",
       "      <td>Free entry in 2 a wkly comp to win FA Cup fina...</td>\n",
       "    </tr>\n",
       "    <tr>\n",
       "      <th>3</th>\n",
       "      <td>0</td>\n",
       "      <td>U dun say so early hor... U c already then say...</td>\n",
       "    </tr>\n",
       "    <tr>\n",
       "      <th>4</th>\n",
       "      <td>0</td>\n",
       "      <td>Nah I don't think he goes to usf, he lives aro...</td>\n",
       "    </tr>\n",
       "    <tr>\n",
       "      <th>...</th>\n",
       "      <td>...</td>\n",
       "      <td>...</td>\n",
       "    </tr>\n",
       "    <tr>\n",
       "      <th>5567</th>\n",
       "      <td>1</td>\n",
       "      <td>This is the 2nd time we have tried 2 contact u...</td>\n",
       "    </tr>\n",
       "    <tr>\n",
       "      <th>5568</th>\n",
       "      <td>0</td>\n",
       "      <td>Will ü b going to esplanade fr home?</td>\n",
       "    </tr>\n",
       "    <tr>\n",
       "      <th>5569</th>\n",
       "      <td>0</td>\n",
       "      <td>Pity, * was in mood for that. So...any other s...</td>\n",
       "    </tr>\n",
       "    <tr>\n",
       "      <th>5570</th>\n",
       "      <td>0</td>\n",
       "      <td>The guy did some bitching but I acted like i'd...</td>\n",
       "    </tr>\n",
       "    <tr>\n",
       "      <th>5571</th>\n",
       "      <td>0</td>\n",
       "      <td>Rofl. Its true to its name</td>\n",
       "    </tr>\n",
       "  </tbody>\n",
       "</table>\n",
       "<p>5572 rows × 2 columns</p>\n",
       "</div>"
      ],
      "text/plain": [
       "      Category                                            Message\n",
       "0            0  Go until jurong point, crazy.. Available only ...\n",
       "1            0                      Ok lar... Joking wif u oni...\n",
       "2            1  Free entry in 2 a wkly comp to win FA Cup fina...\n",
       "3            0  U dun say so early hor... U c already then say...\n",
       "4            0  Nah I don't think he goes to usf, he lives aro...\n",
       "...        ...                                                ...\n",
       "5567         1  This is the 2nd time we have tried 2 contact u...\n",
       "5568         0               Will ü b going to esplanade fr home?\n",
       "5569         0  Pity, * was in mood for that. So...any other s...\n",
       "5570         0  The guy did some bitching but I acted like i'd...\n",
       "5571         0                         Rofl. Its true to its name\n",
       "\n",
       "[5572 rows x 2 columns]"
      ]
     },
     "execution_count": 20,
     "metadata": {},
     "output_type": "execute_result"
    }
   ],
   "source": [
    "df"
   ]
  },
  {
   "cell_type": "code",
   "execution_count": 21,
   "id": "e1717f58",
   "metadata": {},
   "outputs": [],
   "source": [
    "from category_encoders import BinaryEncoder"
   ]
  },
  {
   "cell_type": "code",
   "execution_count": 24,
   "id": "3b535478",
   "metadata": {},
   "outputs": [
    {
     "data": {
      "text/html": [
       "<div>\n",
       "<style scoped>\n",
       "    .dataframe tbody tr th:only-of-type {\n",
       "        vertical-align: middle;\n",
       "    }\n",
       "\n",
       "    .dataframe tbody tr th {\n",
       "        vertical-align: top;\n",
       "    }\n",
       "\n",
       "    .dataframe thead th {\n",
       "        text-align: right;\n",
       "    }\n",
       "</style>\n",
       "<table border=\"1\" class=\"dataframe\">\n",
       "  <thead>\n",
       "    <tr style=\"text-align: right;\">\n",
       "      <th></th>\n",
       "      <th>Category</th>\n",
       "      <th>Message_0</th>\n",
       "      <th>Message_1</th>\n",
       "      <th>Message_2</th>\n",
       "      <th>Message_3</th>\n",
       "      <th>Message_4</th>\n",
       "      <th>Message_5</th>\n",
       "      <th>Message_6</th>\n",
       "      <th>Message_7</th>\n",
       "      <th>Message_8</th>\n",
       "      <th>Message_9</th>\n",
       "      <th>Message_10</th>\n",
       "      <th>Message_11</th>\n",
       "      <th>Message_12</th>\n",
       "    </tr>\n",
       "  </thead>\n",
       "  <tbody>\n",
       "    <tr>\n",
       "      <th>0</th>\n",
       "      <td>0</td>\n",
       "      <td>0</td>\n",
       "      <td>0</td>\n",
       "      <td>0</td>\n",
       "      <td>0</td>\n",
       "      <td>0</td>\n",
       "      <td>0</td>\n",
       "      <td>0</td>\n",
       "      <td>0</td>\n",
       "      <td>0</td>\n",
       "      <td>0</td>\n",
       "      <td>0</td>\n",
       "      <td>0</td>\n",
       "      <td>1</td>\n",
       "    </tr>\n",
       "    <tr>\n",
       "      <th>1</th>\n",
       "      <td>0</td>\n",
       "      <td>0</td>\n",
       "      <td>0</td>\n",
       "      <td>0</td>\n",
       "      <td>0</td>\n",
       "      <td>0</td>\n",
       "      <td>0</td>\n",
       "      <td>0</td>\n",
       "      <td>0</td>\n",
       "      <td>0</td>\n",
       "      <td>0</td>\n",
       "      <td>0</td>\n",
       "      <td>1</td>\n",
       "      <td>0</td>\n",
       "    </tr>\n",
       "    <tr>\n",
       "      <th>2</th>\n",
       "      <td>1</td>\n",
       "      <td>0</td>\n",
       "      <td>0</td>\n",
       "      <td>0</td>\n",
       "      <td>0</td>\n",
       "      <td>0</td>\n",
       "      <td>0</td>\n",
       "      <td>0</td>\n",
       "      <td>0</td>\n",
       "      <td>0</td>\n",
       "      <td>0</td>\n",
       "      <td>0</td>\n",
       "      <td>1</td>\n",
       "      <td>1</td>\n",
       "    </tr>\n",
       "    <tr>\n",
       "      <th>3</th>\n",
       "      <td>0</td>\n",
       "      <td>0</td>\n",
       "      <td>0</td>\n",
       "      <td>0</td>\n",
       "      <td>0</td>\n",
       "      <td>0</td>\n",
       "      <td>0</td>\n",
       "      <td>0</td>\n",
       "      <td>0</td>\n",
       "      <td>0</td>\n",
       "      <td>0</td>\n",
       "      <td>1</td>\n",
       "      <td>0</td>\n",
       "      <td>0</td>\n",
       "    </tr>\n",
       "    <tr>\n",
       "      <th>4</th>\n",
       "      <td>0</td>\n",
       "      <td>0</td>\n",
       "      <td>0</td>\n",
       "      <td>0</td>\n",
       "      <td>0</td>\n",
       "      <td>0</td>\n",
       "      <td>0</td>\n",
       "      <td>0</td>\n",
       "      <td>0</td>\n",
       "      <td>0</td>\n",
       "      <td>0</td>\n",
       "      <td>1</td>\n",
       "      <td>0</td>\n",
       "      <td>1</td>\n",
       "    </tr>\n",
       "    <tr>\n",
       "      <th>...</th>\n",
       "      <td>...</td>\n",
       "      <td>...</td>\n",
       "      <td>...</td>\n",
       "      <td>...</td>\n",
       "      <td>...</td>\n",
       "      <td>...</td>\n",
       "      <td>...</td>\n",
       "      <td>...</td>\n",
       "      <td>...</td>\n",
       "      <td>...</td>\n",
       "      <td>...</td>\n",
       "      <td>...</td>\n",
       "      <td>...</td>\n",
       "      <td>...</td>\n",
       "    </tr>\n",
       "    <tr>\n",
       "      <th>5567</th>\n",
       "      <td>1</td>\n",
       "      <td>1</td>\n",
       "      <td>0</td>\n",
       "      <td>1</td>\n",
       "      <td>0</td>\n",
       "      <td>0</td>\n",
       "      <td>0</td>\n",
       "      <td>0</td>\n",
       "      <td>1</td>\n",
       "      <td>0</td>\n",
       "      <td>0</td>\n",
       "      <td>0</td>\n",
       "      <td>0</td>\n",
       "      <td>1</td>\n",
       "    </tr>\n",
       "    <tr>\n",
       "      <th>5568</th>\n",
       "      <td>0</td>\n",
       "      <td>1</td>\n",
       "      <td>0</td>\n",
       "      <td>1</td>\n",
       "      <td>0</td>\n",
       "      <td>0</td>\n",
       "      <td>0</td>\n",
       "      <td>0</td>\n",
       "      <td>1</td>\n",
       "      <td>0</td>\n",
       "      <td>0</td>\n",
       "      <td>0</td>\n",
       "      <td>1</td>\n",
       "      <td>0</td>\n",
       "    </tr>\n",
       "    <tr>\n",
       "      <th>5569</th>\n",
       "      <td>0</td>\n",
       "      <td>1</td>\n",
       "      <td>0</td>\n",
       "      <td>1</td>\n",
       "      <td>0</td>\n",
       "      <td>0</td>\n",
       "      <td>0</td>\n",
       "      <td>0</td>\n",
       "      <td>1</td>\n",
       "      <td>0</td>\n",
       "      <td>0</td>\n",
       "      <td>0</td>\n",
       "      <td>1</td>\n",
       "      <td>1</td>\n",
       "    </tr>\n",
       "    <tr>\n",
       "      <th>5570</th>\n",
       "      <td>0</td>\n",
       "      <td>1</td>\n",
       "      <td>0</td>\n",
       "      <td>1</td>\n",
       "      <td>0</td>\n",
       "      <td>0</td>\n",
       "      <td>0</td>\n",
       "      <td>0</td>\n",
       "      <td>1</td>\n",
       "      <td>0</td>\n",
       "      <td>0</td>\n",
       "      <td>1</td>\n",
       "      <td>0</td>\n",
       "      <td>0</td>\n",
       "    </tr>\n",
       "    <tr>\n",
       "      <th>5571</th>\n",
       "      <td>0</td>\n",
       "      <td>1</td>\n",
       "      <td>0</td>\n",
       "      <td>1</td>\n",
       "      <td>0</td>\n",
       "      <td>0</td>\n",
       "      <td>0</td>\n",
       "      <td>0</td>\n",
       "      <td>1</td>\n",
       "      <td>0</td>\n",
       "      <td>0</td>\n",
       "      <td>1</td>\n",
       "      <td>0</td>\n",
       "      <td>1</td>\n",
       "    </tr>\n",
       "  </tbody>\n",
       "</table>\n",
       "<p>5572 rows × 14 columns</p>\n",
       "</div>"
      ],
      "text/plain": [
       "      Category  Message_0  Message_1  Message_2  Message_3  Message_4  \\\n",
       "0            0          0          0          0          0          0   \n",
       "1            0          0          0          0          0          0   \n",
       "2            1          0          0          0          0          0   \n",
       "3            0          0          0          0          0          0   \n",
       "4            0          0          0          0          0          0   \n",
       "...        ...        ...        ...        ...        ...        ...   \n",
       "5567         1          1          0          1          0          0   \n",
       "5568         0          1          0          1          0          0   \n",
       "5569         0          1          0          1          0          0   \n",
       "5570         0          1          0          1          0          0   \n",
       "5571         0          1          0          1          0          0   \n",
       "\n",
       "      Message_5  Message_6  Message_7  Message_8  Message_9  Message_10  \\\n",
       "0             0          0          0          0          0           0   \n",
       "1             0          0          0          0          0           0   \n",
       "2             0          0          0          0          0           0   \n",
       "3             0          0          0          0          0           1   \n",
       "4             0          0          0          0          0           1   \n",
       "...         ...        ...        ...        ...        ...         ...   \n",
       "5567          0          0          1          0          0           0   \n",
       "5568          0          0          1          0          0           0   \n",
       "5569          0          0          1          0          0           0   \n",
       "5570          0          0          1          0          0           1   \n",
       "5571          0          0          1          0          0           1   \n",
       "\n",
       "      Message_11  Message_12  \n",
       "0              0           1  \n",
       "1              1           0  \n",
       "2              1           1  \n",
       "3              0           0  \n",
       "4              0           1  \n",
       "...          ...         ...  \n",
       "5567           0           1  \n",
       "5568           1           0  \n",
       "5569           1           1  \n",
       "5570           0           0  \n",
       "5571           0           1  \n",
       "\n",
       "[5572 rows x 14 columns]"
      ]
     },
     "execution_count": 24,
     "metadata": {},
     "output_type": "execute_result"
    }
   ],
   "source": [
    "BE=BinaryEncoder()\n",
    "df=BE.fit_transform(df,drop_first=True)\n",
    "df"
   ]
  },
  {
   "cell_type": "markdown",
   "id": "63770ae7",
   "metadata": {},
   "source": [
    "# Now lets solve the prob of class difference"
   ]
  },
  {
   "cell_type": "code",
   "execution_count": 25,
   "id": "73c43ae9",
   "metadata": {},
   "outputs": [],
   "source": [
    "X=df.drop('Category',axis=1)\n",
    "Y=df['Category']"
   ]
  },
  {
   "cell_type": "code",
   "execution_count": 26,
   "id": "3e70dfbc",
   "metadata": {},
   "outputs": [
    {
     "data": {
      "text/plain": [
       "(5572,)"
      ]
     },
     "execution_count": 26,
     "metadata": {},
     "output_type": "execute_result"
    }
   ],
   "source": [
    "Y.shape"
   ]
  },
  {
   "cell_type": "code",
   "execution_count": 28,
   "id": "d591279e",
   "metadata": {},
   "outputs": [
    {
     "data": {
      "text/plain": [
       "0    4825\n",
       "1     747\n",
       "Name: Category, dtype: int64"
      ]
     },
     "execution_count": 28,
     "metadata": {},
     "output_type": "execute_result"
    }
   ],
   "source": [
    "Y.value_counts()"
   ]
  },
  {
   "cell_type": "code",
   "execution_count": 29,
   "id": "581a836f",
   "metadata": {},
   "outputs": [],
   "source": [
    "from imblearn.over_sampling import SMOTE"
   ]
  },
  {
   "cell_type": "code",
   "execution_count": 30,
   "id": "d93f2024",
   "metadata": {},
   "outputs": [],
   "source": [
    "sm=SMOTE()\n",
    "X,Y=sm.fit_resample(X,Y)"
   ]
  },
  {
   "cell_type": "code",
   "execution_count": 31,
   "id": "4fcc1c4f",
   "metadata": {},
   "outputs": [
    {
     "data": {
      "text/plain": [
       "0    4825\n",
       "1    4825\n",
       "Name: Category, dtype: int64"
      ]
     },
     "execution_count": 31,
     "metadata": {},
     "output_type": "execute_result"
    }
   ],
   "source": [
    "Y.value_counts()"
   ]
  },
  {
   "cell_type": "code",
   "execution_count": 33,
   "id": "a4a725a0",
   "metadata": {},
   "outputs": [
    {
     "data": {
      "text/plain": [
       "((9650, 13), (9650,))"
      ]
     },
     "execution_count": 33,
     "metadata": {},
     "output_type": "execute_result"
    }
   ],
   "source": [
    "X.shape,Y.shape"
   ]
  },
  {
   "cell_type": "markdown",
   "id": "49725af4",
   "metadata": {},
   "source": [
    "# Now class imbalanced is solved and lets move towards the model building"
   ]
  },
  {
   "cell_type": "code",
   "execution_count": 34,
   "id": "abe084ea",
   "metadata": {},
   "outputs": [
    {
     "data": {
      "image/png": "[encoded data removed]",
      "text/plain": [
       "<Figure size 1440x1800 with 13 Axes>"
      ]
     },
     "metadata": {},
     "output_type": "display_data"
    }
   ],
   "source": [
    "plt.figure(figsize=(20,25),facecolor='pink')\n",
    "plotnumber=1\n",
    "for columns in X.columns:\n",
    "    if plotnumber<=32:\n",
    "        ax=plt.subplot(8,4,plotnumber)\n",
    "        sns.scatterplot(Y,X[columns])\n",
    "        plt.xlabel(columns,fontsize=10)\n",
    "    plotnumber+=1\n",
    "plt.show()"
   ]
  },
  {
   "cell_type": "code",
   "execution_count": 35,
   "id": "55f922df",
   "metadata": {},
   "outputs": [],
   "source": [
    "from sklearn.preprocessing import StandardScaler\n",
    "from sklearn.linear_model import LogisticRegression\n",
    "from sklearn.model_selection import train_test_split\n",
    "from sklearn.metrics import accuracy_score, confusion_matrix,classification_report\n",
    "from sklearn.model_selection import cross_val_score"
   ]
  },
  {
   "cell_type": "code",
   "execution_count": 37,
   "id": "1ce0bdef",
   "metadata": {},
   "outputs": [],
   "source": [
    "scaller=StandardScaler()\n",
    "X_scaled=scaller.fit_transform(X)"
   ]
  },
  {
   "cell_type": "code",
   "execution_count": 38,
   "id": "d481919c",
   "metadata": {},
   "outputs": [
    {
     "data": {
      "text/html": [
       "<div>\n",
       "<style scoped>\n",
       "    .dataframe tbody tr th:only-of-type {\n",
       "        vertical-align: middle;\n",
       "    }\n",
       "\n",
       "    .dataframe tbody tr th {\n",
       "        vertical-align: top;\n",
       "    }\n",
       "\n",
       "    .dataframe thead th {\n",
       "        text-align: right;\n",
       "    }\n",
       "</style>\n",
       "<table border=\"1\" class=\"dataframe\">\n",
       "  <thead>\n",
       "    <tr style=\"text-align: right;\">\n",
       "      <th></th>\n",
       "      <th>Category</th>\n",
       "      <th>Message_0</th>\n",
       "      <th>Message_1</th>\n",
       "      <th>Message_2</th>\n",
       "      <th>Message_3</th>\n",
       "      <th>Message_4</th>\n",
       "      <th>Message_5</th>\n",
       "      <th>Message_6</th>\n",
       "      <th>Message_7</th>\n",
       "      <th>Message_8</th>\n",
       "      <th>Message_9</th>\n",
       "      <th>Message_10</th>\n",
       "      <th>Message_11</th>\n",
       "      <th>Message_12</th>\n",
       "    </tr>\n",
       "  </thead>\n",
       "  <tbody>\n",
       "    <tr>\n",
       "      <th>Category</th>\n",
       "      <td>1.000000</td>\n",
       "      <td>-0.033027</td>\n",
       "      <td>-0.019811</td>\n",
       "      <td>0.010191</td>\n",
       "      <td>0.010224</td>\n",
       "      <td>-0.026550</td>\n",
       "      <td>0.000409</td>\n",
       "      <td>-0.006771</td>\n",
       "      <td>-0.010691</td>\n",
       "      <td>-0.002069</td>\n",
       "      <td>0.005653</td>\n",
       "      <td>0.006512</td>\n",
       "      <td>0.010237</td>\n",
       "      <td>0.002710</td>\n",
       "    </tr>\n",
       "    <tr>\n",
       "      <th>Message_0</th>\n",
       "      <td>-0.033027</td>\n",
       "      <td>1.000000</td>\n",
       "      <td>-0.385850</td>\n",
       "      <td>-0.366269</td>\n",
       "      <td>-0.001360</td>\n",
       "      <td>-0.013622</td>\n",
       "      <td>-0.011311</td>\n",
       "      <td>-0.016810</td>\n",
       "      <td>-0.002905</td>\n",
       "      <td>-0.002031</td>\n",
       "      <td>-0.003818</td>\n",
       "      <td>0.004415</td>\n",
       "      <td>0.003294</td>\n",
       "      <td>-0.000420</td>\n",
       "    </tr>\n",
       "    <tr>\n",
       "      <th>Message_1</th>\n",
       "      <td>-0.019811</td>\n",
       "      <td>-0.385850</td>\n",
       "      <td>1.000000</td>\n",
       "      <td>0.145891</td>\n",
       "      <td>0.012917</td>\n",
       "      <td>0.010018</td>\n",
       "      <td>0.013763</td>\n",
       "      <td>0.003377</td>\n",
       "      <td>0.002298</td>\n",
       "      <td>-0.002185</td>\n",
       "      <td>0.003774</td>\n",
       "      <td>0.006044</td>\n",
       "      <td>0.002752</td>\n",
       "      <td>0.000426</td>\n",
       "    </tr>\n",
       "    <tr>\n",
       "      <th>Message_2</th>\n",
       "      <td>0.010191</td>\n",
       "      <td>-0.366269</td>\n",
       "      <td>0.145891</td>\n",
       "      <td>1.000000</td>\n",
       "      <td>0.000168</td>\n",
       "      <td>-0.002583</td>\n",
       "      <td>-0.000582</td>\n",
       "      <td>-0.013367</td>\n",
       "      <td>-0.012005</td>\n",
       "      <td>-0.004306</td>\n",
       "      <td>0.002997</td>\n",
       "      <td>-0.003239</td>\n",
       "      <td>0.008916</td>\n",
       "      <td>-0.000930</td>\n",
       "    </tr>\n",
       "    <tr>\n",
       "      <th>Message_3</th>\n",
       "      <td>0.010224</td>\n",
       "      <td>-0.001360</td>\n",
       "      <td>0.012917</td>\n",
       "      <td>0.000168</td>\n",
       "      <td>1.000000</td>\n",
       "      <td>0.014534</td>\n",
       "      <td>0.008998</td>\n",
       "      <td>-0.001171</td>\n",
       "      <td>0.007608</td>\n",
       "      <td>-0.003997</td>\n",
       "      <td>0.000730</td>\n",
       "      <td>0.008026</td>\n",
       "      <td>0.009415</td>\n",
       "      <td>0.004575</td>\n",
       "    </tr>\n",
       "    <tr>\n",
       "      <th>Message_4</th>\n",
       "      <td>-0.026550</td>\n",
       "      <td>-0.013622</td>\n",
       "      <td>0.010018</td>\n",
       "      <td>-0.002583</td>\n",
       "      <td>0.014534</td>\n",
       "      <td>1.000000</td>\n",
       "      <td>0.011313</td>\n",
       "      <td>-0.001125</td>\n",
       "      <td>0.013491</td>\n",
       "      <td>-0.002537</td>\n",
       "      <td>0.009340</td>\n",
       "      <td>0.008854</td>\n",
       "      <td>0.000214</td>\n",
       "      <td>-0.003279</td>\n",
       "    </tr>\n",
       "    <tr>\n",
       "      <th>Message_5</th>\n",
       "      <td>0.000409</td>\n",
       "      <td>-0.011311</td>\n",
       "      <td>0.013763</td>\n",
       "      <td>-0.000582</td>\n",
       "      <td>0.008998</td>\n",
       "      <td>0.011313</td>\n",
       "      <td>1.000000</td>\n",
       "      <td>0.011816</td>\n",
       "      <td>0.010676</td>\n",
       "      <td>0.000344</td>\n",
       "      <td>0.004311</td>\n",
       "      <td>0.007464</td>\n",
       "      <td>0.015346</td>\n",
       "      <td>-0.001107</td>\n",
       "    </tr>\n",
       "    <tr>\n",
       "      <th>Message_6</th>\n",
       "      <td>-0.006771</td>\n",
       "      <td>-0.016810</td>\n",
       "      <td>0.003377</td>\n",
       "      <td>-0.013367</td>\n",
       "      <td>-0.001171</td>\n",
       "      <td>-0.001125</td>\n",
       "      <td>0.011816</td>\n",
       "      <td>1.000000</td>\n",
       "      <td>-0.004692</td>\n",
       "      <td>0.011482</td>\n",
       "      <td>-0.009690</td>\n",
       "      <td>-0.000021</td>\n",
       "      <td>-0.007204</td>\n",
       "      <td>0.003581</td>\n",
       "    </tr>\n",
       "    <tr>\n",
       "      <th>Message_7</th>\n",
       "      <td>-0.010691</td>\n",
       "      <td>-0.002905</td>\n",
       "      <td>0.002298</td>\n",
       "      <td>-0.012005</td>\n",
       "      <td>0.007608</td>\n",
       "      <td>0.013491</td>\n",
       "      <td>0.010676</td>\n",
       "      <td>-0.004692</td>\n",
       "      <td>1.000000</td>\n",
       "      <td>-0.005397</td>\n",
       "      <td>0.007182</td>\n",
       "      <td>0.010345</td>\n",
       "      <td>0.000282</td>\n",
       "      <td>-0.006846</td>\n",
       "    </tr>\n",
       "    <tr>\n",
       "      <th>Message_8</th>\n",
       "      <td>-0.002069</td>\n",
       "      <td>-0.002031</td>\n",
       "      <td>-0.002185</td>\n",
       "      <td>-0.004306</td>\n",
       "      <td>-0.003997</td>\n",
       "      <td>-0.002537</td>\n",
       "      <td>0.000344</td>\n",
       "      <td>0.011482</td>\n",
       "      <td>-0.005397</td>\n",
       "      <td>1.000000</td>\n",
       "      <td>-0.005384</td>\n",
       "      <td>-0.007189</td>\n",
       "      <td>0.002141</td>\n",
       "      <td>0.002867</td>\n",
       "    </tr>\n",
       "    <tr>\n",
       "      <th>Message_9</th>\n",
       "      <td>0.005653</td>\n",
       "      <td>-0.003818</td>\n",
       "      <td>0.003774</td>\n",
       "      <td>0.002997</td>\n",
       "      <td>0.000730</td>\n",
       "      <td>0.009340</td>\n",
       "      <td>0.004311</td>\n",
       "      <td>-0.009690</td>\n",
       "      <td>0.007182</td>\n",
       "      <td>-0.005384</td>\n",
       "      <td>1.000000</td>\n",
       "      <td>0.008258</td>\n",
       "      <td>-0.003945</td>\n",
       "      <td>-0.007537</td>\n",
       "    </tr>\n",
       "    <tr>\n",
       "      <th>Message_10</th>\n",
       "      <td>0.006512</td>\n",
       "      <td>0.004415</td>\n",
       "      <td>0.006044</td>\n",
       "      <td>-0.003239</td>\n",
       "      <td>0.008026</td>\n",
       "      <td>0.008854</td>\n",
       "      <td>0.007464</td>\n",
       "      <td>-0.000021</td>\n",
       "      <td>0.010345</td>\n",
       "      <td>-0.007189</td>\n",
       "      <td>0.008258</td>\n",
       "      <td>1.000000</td>\n",
       "      <td>0.004246</td>\n",
       "      <td>-0.010071</td>\n",
       "    </tr>\n",
       "    <tr>\n",
       "      <th>Message_11</th>\n",
       "      <td>0.010237</td>\n",
       "      <td>0.003294</td>\n",
       "      <td>0.002752</td>\n",
       "      <td>0.008916</td>\n",
       "      <td>0.009415</td>\n",
       "      <td>0.000214</td>\n",
       "      <td>0.015346</td>\n",
       "      <td>-0.007204</td>\n",
       "      <td>0.000282</td>\n",
       "      <td>0.002141</td>\n",
       "      <td>-0.003945</td>\n",
       "      <td>0.004246</td>\n",
       "      <td>1.000000</td>\n",
       "      <td>-0.009357</td>\n",
       "    </tr>\n",
       "    <tr>\n",
       "      <th>Message_12</th>\n",
       "      <td>0.002710</td>\n",
       "      <td>-0.000420</td>\n",
       "      <td>0.000426</td>\n",
       "      <td>-0.000930</td>\n",
       "      <td>0.004575</td>\n",
       "      <td>-0.003279</td>\n",
       "      <td>-0.001107</td>\n",
       "      <td>0.003581</td>\n",
       "      <td>-0.006846</td>\n",
       "      <td>0.002867</td>\n",
       "      <td>-0.007537</td>\n",
       "      <td>-0.010071</td>\n",
       "      <td>-0.009357</td>\n",
       "      <td>1.000000</td>\n",
       "    </tr>\n",
       "  </tbody>\n",
       "</table>\n",
       "</div>"
      ],
      "text/plain": [
       "            Category  Message_0  Message_1  Message_2  Message_3  Message_4  \\\n",
       "Category    1.000000  -0.033027  -0.019811   0.010191   0.010224  -0.026550   \n",
       "Message_0  -0.033027   1.000000  -0.385850  -0.366269  -0.001360  -0.013622   \n",
       "Message_1  -0.019811  -0.385850   1.000000   0.145891   0.012917   0.010018   \n",
       "Message_2   0.010191  -0.366269   0.145891   1.000000   0.000168  -0.002583   \n",
       "Message_3   0.010224  -0.001360   0.012917   0.000168   1.000000   0.014534   \n",
       "Message_4  -0.026550  -0.013622   0.010018  -0.002583   0.014534   1.000000   \n",
       "Message_5   0.000409  -0.011311   0.013763  -0.000582   0.008998   0.011313   \n",
       "Message_6  -0.006771  -0.016810   0.003377  -0.013367  -0.001171  -0.001125   \n",
       "Message_7  -0.010691  -0.002905   0.002298  -0.012005   0.007608   0.013491   \n",
       "Message_8  -0.002069  -0.002031  -0.002185  -0.004306  -0.003997  -0.002537   \n",
       "Message_9   0.005653  -0.003818   0.003774   0.002997   0.000730   0.009340   \n",
       "Message_10  0.006512   0.004415   0.006044  -0.003239   0.008026   0.008854   \n",
       "Message_11  0.010237   0.003294   0.002752   0.008916   0.009415   0.000214   \n",
       "Message_12  0.002710  -0.000420   0.000426  -0.000930   0.004575  -0.003279   \n",
       "\n",
       "            Message_5  Message_6  Message_7  Message_8  Message_9  Message_10  \\\n",
       "Category     0.000409  -0.006771  -0.010691  -0.002069   0.005653    0.006512   \n",
       "Message_0   -0.011311  -0.016810  -0.002905  -0.002031  -0.003818    0.004415   \n",
       "Message_1    0.013763   0.003377   0.002298  -0.002185   0.003774    0.006044   \n",
       "Message_2   -0.000582  -0.013367  -0.012005  -0.004306   0.002997   -0.003239   \n",
       "Message_3    0.008998  -0.001171   0.007608  -0.003997   0.000730    0.008026   \n",
       "Message_4    0.011313  -0.001125   0.013491  -0.002537   0.009340    0.008854   \n",
       "Message_5    1.000000   0.011816   0.010676   0.000344   0.004311    0.007464   \n",
       "Message_6    0.011816   1.000000  -0.004692   0.011482  -0.009690   -0.000021   \n",
       "Message_7    0.010676  -0.004692   1.000000  -0.005397   0.007182    0.010345   \n",
       "Message_8    0.000344   0.011482  -0.005397   1.000000  -0.005384   -0.007189   \n",
       "Message_9    0.004311  -0.009690   0.007182  -0.005384   1.000000    0.008258   \n",
       "Message_10   0.007464  -0.000021   0.010345  -0.007189   0.008258    1.000000   \n",
       "Message_11   0.015346  -0.007204   0.000282   0.002141  -0.003945    0.004246   \n",
       "Message_12  -0.001107   0.003581  -0.006846   0.002867  -0.007537   -0.010071   \n",
       "\n",
       "            Message_11  Message_12  \n",
       "Category      0.010237    0.002710  \n",
       "Message_0     0.003294   -0.000420  \n",
       "Message_1     0.002752    0.000426  \n",
       "Message_2     0.008916   -0.000930  \n",
       "Message_3     0.009415    0.004575  \n",
       "Message_4     0.000214   -0.003279  \n",
       "Message_5     0.015346   -0.001107  \n",
       "Message_6    -0.007204    0.003581  \n",
       "Message_7     0.000282   -0.006846  \n",
       "Message_8     0.002141    0.002867  \n",
       "Message_9    -0.003945   -0.007537  \n",
       "Message_10    0.004246   -0.010071  \n",
       "Message_11    1.000000   -0.009357  \n",
       "Message_12   -0.009357    1.000000  "
      ]
     },
     "execution_count": 38,
     "metadata": {},
     "output_type": "execute_result"
    }
   ],
   "source": [
    "data=df.corr()\n",
    "data"
   ]
  },
  {
   "cell_type": "code",
   "execution_count": 39,
   "id": "352f0718",
   "metadata": {},
   "outputs": [
    {
     "data": {
      "text/plain": [
       "<AxesSubplot:>"
      ]
     },
     "execution_count": 39,
     "metadata": {},
     "output_type": "execute_result"
    },
    {
     "data": {
      "image/png": "[encoded data removed]",
      "text/plain": [
       "<Figure size 1080x1440 with 2 Axes>"
      ]
     },
     "metadata": {
      "needs_background": "light"
     },
     "output_type": "display_data"
    }
   ],
   "source": [
    "plt.figure(figsize=(15,20))\n",
    "sns.heatmap(data,annot=True,cmap='coolwarm')"
   ]
  },
  {
   "cell_type": "code",
   "execution_count": 40,
   "id": "a390a67f",
   "metadata": {},
   "outputs": [
    {
     "name": "stdout",
     "output_type": "stream",
     "text": [
      "Training feature matrix size: (7237, 13)\n",
      "Training target vector size: (7237,)\n",
      "Test feature matrix size: (2413, 13)\n",
      "Test target vector size: (2413,)\n"
     ]
    }
   ],
   "source": [
    "X_train, X_test, Y_train, Y_test = train_test_split(X, Y, random_state=67, test_size=.25)\n",
    "print('Training feature matrix size:',X_train.shape)\n",
    "print('Training target vector size:',Y_train.shape)\n",
    "print('Test feature matrix size:',X_test.shape)\n",
    "print('Test target vector size:',Y_test.shape)"
   ]
  },
  {
   "cell_type": "code",
   "execution_count": 41,
   "id": "70b157f6",
   "metadata": {},
   "outputs": [
    {
     "name": "stdout",
     "output_type": "stream",
     "text": [
      "Best accuracy is 0.6397236614853196 on Random_state 245\n"
     ]
    }
   ],
   "source": [
    "maxAccu=0\n",
    "maxRS=0\n",
    "for i in range(50,300):\n",
    "    X_train,X_test,Y_train,Y_test = train_test_split(X_scaled,Y,test_size = 0.3, random_state=i)\n",
    "    log_reg=LogisticRegression()\n",
    "    log_reg.fit(X_train,Y_train)\n",
    "    y_pred=log_reg.predict(X_test)\n",
    "    acc=accuracy_score(Y_test,y_pred)\n",
    "    if acc>maxAccu:\n",
    "        maxAccu=acc\n",
    "        maxRS=i\n",
    "print('Best accuracy is', maxAccu ,'on Random_state', maxRS)"
   ]
  },
  {
   "cell_type": "code",
   "execution_count": 42,
   "id": "2fb180b7",
   "metadata": {},
   "outputs": [
    {
     "name": "stdout",
     "output_type": "stream",
     "text": [
      "\u001b[1mLogistics Regression Evaluation\u001b[0m\n",
      "\n",
      "\n",
      "\u001b[1mAccuracy Score of Logistics Regression :\u001b[0m 0.6397236614853196\n",
      "\n",
      "\n",
      "\u001b[1mConfusion matrix of Logistics Regression :\u001b[0m \n",
      " [[916 523]\n",
      " [520 936]]\n",
      "\n",
      "\n",
      "\u001b[1mclassification Report of Logistics Regression\u001b[0m \n",
      "               precision    recall  f1-score   support\n",
      "\n",
      "           0       0.64      0.64      0.64      1439\n",
      "           1       0.64      0.64      0.64      1456\n",
      "\n",
      "    accuracy                           0.64      2895\n",
      "   macro avg       0.64      0.64      0.64      2895\n",
      "weighted avg       0.64      0.64      0.64      2895\n",
      "\n"
     ]
    }
   ],
   "source": [
    "X_train, X_test, Y_train, Y_test = train_test_split(X_scaled, Y, random_state=245, test_size=0.3)\n",
    "log_reg=LogisticRegression()\n",
    "log_reg.fit(X_train,Y_train)\n",
    "y_pred=log_reg.predict(X_test)\n",
    "print('\\033[1m'+'Logistics Regression Evaluation'+'\\033[0m')\n",
    "print('\\n')\n",
    "print('\\033[1m'+'Accuracy Score of Logistics Regression :'+'\\033[0m', accuracy_score(Y_test, y_pred))\n",
    "print('\\n')\n",
    "print('\\033[1m'+'Confusion matrix of Logistics Regression :'+'\\033[0m \\n',confusion_matrix(Y_test, y_pred))\n",
    "print('\\n')\n",
    "print('\\033[1m'+'classification Report of Logistics Regression'+'\\033[0m \\n',classification_report(Y_test, y_pred))"
   ]
  },
  {
   "cell_type": "code",
   "execution_count": null,
   "id": "99c571f4",
   "metadata": {},
   "outputs": [],
   "source": [
    "according to confusion matrix\n",
    "accuracy is 0.63\n",
    "when its 0 that means B then support is 1439 and when 1 that means M then support is 1456"
   ]
  },
  {
   "cell_type": "code",
   "execution_count": 43,
   "id": "dd17d60f",
   "metadata": {},
   "outputs": [
    {
     "name": "stdout",
     "output_type": "stream",
     "text": [
      "\u001b[1mCross Validation Score LogisticRegression() :\u001b[0m\n",
      "\n",
      "CVScore : [0.29654958 0.42834939 0.42661692]\n",
      "Mean CV Score : 0.38383862987415013\n",
      "Std deviation : 0.06172673108101143\n"
     ]
    }
   ],
   "source": [
    "CVscore = cross_val_score(log_reg, X_scaled, Y, cv =3)\n",
    "print('\\033[1m'+'Cross Validation Score', log_reg, ':'+'\\033[0m\\n')\n",
    "print(\"CVScore :\" ,CVscore)\n",
    "print(\"Mean CV Score :\",CVscore.mean())\n",
    "print(\"Std deviation :\",CVscore.std())"
   ]
  },
  {
   "cell_type": "code",
   "execution_count": 44,
   "id": "2c128ba7",
   "metadata": {},
   "outputs": [],
   "source": [
    "from sklearn.tree import DecisionTreeClassifier\n",
    "from sklearn.neighbors import KNeighborsClassifier\n",
    "from sklearn.ensemble import RandomForestClassifier"
   ]
  },
  {
   "cell_type": "code",
   "execution_count": 45,
   "id": "9a446376",
   "metadata": {},
   "outputs": [
    {
     "name": "stdout",
     "output_type": "stream",
     "text": [
      "\u001b[1mK Neighbors Classifier\u001b[0m\n",
      "\n",
      "\n",
      "\u001b[1mAccuracy Score of KNeighborsClassifier :\u001b[0m 0.7675302245250432\n",
      "\n",
      "\n",
      "\u001b[1mConfusion matrix of Logistics Regression :\u001b[0m \n",
      " [[ 980  459]\n",
      " [ 214 1242]]\n",
      "\n",
      "\n",
      "\u001b[1mclassification Report of Logistics Regression\u001b[0m \n",
      "               precision    recall  f1-score   support\n",
      "\n",
      "           0       0.82      0.68      0.74      1439\n",
      "           1       0.73      0.85      0.79      1456\n",
      "\n",
      "    accuracy                           0.77      2895\n",
      "   macro avg       0.78      0.77      0.77      2895\n",
      "weighted avg       0.78      0.77      0.77      2895\n",
      "\n"
     ]
    }
   ],
   "source": [
    "knn=KNeighborsClassifier()\n",
    "knn.fit(X_train,Y_train)\n",
    "y_pred=knn.predict(X_test)\n",
    "print('\\033[1m'+'K Neighbors Classifier'+'\\033[0m')\n",
    "print('\\n')\n",
    "print('\\033[1m'+'Accuracy Score of KNeighborsClassifier :'+'\\033[0m', accuracy_score(Y_test, y_pred))\n",
    "print('\\n')\n",
    "print('\\033[1m'+'Confusion matrix of Logistics Regression :'+'\\033[0m \\n',confusion_matrix(Y_test, y_pred))\n",
    "print('\\n')\n",
    "print('\\033[1m'+'classification Report of Logistics Regression'+'\\033[0m \\n',classification_report(Y_test, y_pred))"
   ]
  },
  {
   "cell_type": "code",
   "execution_count": 46,
   "id": "b2e53d38",
   "metadata": {},
   "outputs": [
    {
     "name": "stdout",
     "output_type": "stream",
     "text": [
      "\u001b[1mCross Validation Score KNeighborsClassifier() :\u001b[0m\n",
      "\n",
      "CVScore : [0.48834318 0.53372707 0.51150498]\n",
      "Mean CV Score : 0.5111917423039193\n",
      "Std deviation : 0.01852922262200377\n"
     ]
    }
   ],
   "source": [
    "CVscore = cross_val_score(knn, X_scaled, Y, cv =3)\n",
    "print('\\033[1m'+'Cross Validation Score', knn, ':'+'\\033[0m\\n')\n",
    "print(\"CVScore :\" ,CVscore)\n",
    "print(\"Mean CV Score :\",CVscore.mean())\n",
    "print(\"Std deviation :\",CVscore.std())"
   ]
  },
  {
   "cell_type": "code",
   "execution_count": 47,
   "id": "99311ce9",
   "metadata": {},
   "outputs": [
    {
     "name": "stdout",
     "output_type": "stream",
     "text": [
      "\u001b[1mDecision Tree Classifier Evaluation\u001b[0m\n",
      "\n",
      "\n",
      "\u001b[1mAccuracy Score of Decision Tree Classifier :\u001b[0m 0.8186528497409327\n",
      "\n",
      "\n",
      "\u001b[1mConfusion matrix of Decision Tree Classifier :\u001b[0m \n",
      " [[1084  355]\n",
      " [ 170 1286]]\n",
      "\n",
      "\n",
      "\u001b[1mclassification Report of Decision Tree Classifier\u001b[0m \n",
      "               precision    recall  f1-score   support\n",
      "\n",
      "           0       0.86      0.75      0.81      1439\n",
      "           1       0.78      0.88      0.83      1456\n",
      "\n",
      "    accuracy                           0.82      2895\n",
      "   macro avg       0.82      0.82      0.82      2895\n",
      "weighted avg       0.82      0.82      0.82      2895\n",
      "\n"
     ]
    }
   ],
   "source": [
    "dtc=DecisionTreeClassifier()\n",
    "dtc.fit(X_train,Y_train)\n",
    "y_pred=dtc.predict(X_test)\n",
    "print('\\033[1m'+'Decision Tree Classifier Evaluation'+'\\033[0m')\n",
    "print('\\n')\n",
    "print('\\033[1m'+'Accuracy Score of Decision Tree Classifier :'+'\\033[0m', accuracy_score(Y_test, y_pred))\n",
    "print('\\n')\n",
    "print('\\033[1m'+'Confusion matrix of Decision Tree Classifier :'+'\\033[0m \\n',confusion_matrix(Y_test, y_pred))\n",
    "print('\\n')\n",
    "print('\\033[1m'+'classification Report of Decision Tree Classifier'+'\\033[0m \\n',classification_report(Y_test, y_pred))"
   ]
  },
  {
   "cell_type": "code",
   "execution_count": 48,
   "id": "91bd87e5",
   "metadata": {},
   "outputs": [
    {
     "name": "stdout",
     "output_type": "stream",
     "text": [
      "\u001b[1mCross Validation Score DecisionTreeClassifier() :\u001b[0m\n",
      "\n",
      "CVScore : [0.61796705 0.60801989 0.54011194]\n",
      "Mean CV Score : 0.5886996282188685\n",
      "Std deviation : 0.03459584791936409\n"
     ]
    }
   ],
   "source": [
    "CVscore = cross_val_score(dtc, X_scaled, Y, cv =3)\n",
    "print('\\033[1m'+'Cross Validation Score', dtc, ':'+'\\033[0m\\n')\n",
    "print(\"CVScore :\" ,CVscore)\n",
    "print(\"Mean CV Score :\",CVscore.mean())\n",
    "print(\"Std deviation :\",CVscore.std())"
   ]
  },
  {
   "cell_type": "code",
   "execution_count": 49,
   "id": "f78384b3",
   "metadata": {},
   "outputs": [
    {
     "name": "stdout",
     "output_type": "stream",
     "text": [
      "\u001b[1mRandom Forest Classifier Evaluation\u001b[0m\n",
      "\n",
      "\n",
      "\u001b[1mAccuracy Score of Random Forest Classifier :\u001b[0m 0.8915371329879102\n",
      "\n",
      "\n",
      "\u001b[1mConfusion matrix of Random Forest Classifier :\u001b[0m \n",
      " [[1271  168]\n",
      " [ 146 1310]]\n",
      "\n",
      "\n",
      "\u001b[1mclassification Report ofRandom Forest Classifier\u001b[0m \n",
      "               precision    recall  f1-score   support\n",
      "\n",
      "           0       0.90      0.88      0.89      1439\n",
      "           1       0.89      0.90      0.89      1456\n",
      "\n",
      "    accuracy                           0.89      2895\n",
      "   macro avg       0.89      0.89      0.89      2895\n",
      "weighted avg       0.89      0.89      0.89      2895\n",
      "\n"
     ]
    }
   ],
   "source": [
    "rfr=RandomForestClassifier()\n",
    "rfr.fit(X_train,Y_train)\n",
    "y_pred=rfr.predict(X_test)\n",
    "print('\\033[1m'+'Random Forest Classifier Evaluation'+'\\033[0m')\n",
    "print('\\n')\n",
    "print('\\033[1m'+'Accuracy Score of Random Forest Classifier :'+'\\033[0m', accuracy_score(Y_test, y_pred))\n",
    "print('\\n')\n",
    "print('\\033[1m'+'Confusion matrix of Random Forest Classifier :'+'\\033[0m \\n',confusion_matrix(Y_test, y_pred))\n",
    "print('\\n')\n",
    "print('\\033[1m'+'classification Report ofRandom Forest Classifier'+'\\033[0m \\n',classification_report(Y_test, y_pred))"
   ]
  },
  {
   "cell_type": "code",
   "execution_count": 50,
   "id": "1431b028",
   "metadata": {},
   "outputs": [
    {
     "name": "stdout",
     "output_type": "stream",
     "text": [
      "\u001b[1mCross Validation Score RandomForestClassifier() :\u001b[0m\n",
      "\n",
      "CVScore : [0.53465962 0.5741374  0.54291045]\n",
      "Mean CV Score : 0.5505691545381578\n",
      "Std deviation : 0.01700226472196986\n"
     ]
    }
   ],
   "source": [
    "CVscore = cross_val_score(rfr, X_scaled, Y, cv =3)\n",
    "print('\\033[1m'+'Cross Validation Score', rfr, ':'+'\\033[0m\\n')\n",
    "print(\"CVScore :\" ,CVscore)\n",
    "print(\"Mean CV Score :\",CVscore.mean())\n",
    "print(\"Std deviation :\",CVscore.std())"
   ]
  },
  {
   "cell_type": "markdown",
   "id": "f52126a6",
   "metadata": {},
   "source": [
    "# Now lets do hyper parameter tunning and see whether we will be able to increase score or not"
   ]
  },
  {
   "cell_type": "code",
   "execution_count": 51,
   "id": "e7df909e",
   "metadata": {},
   "outputs": [],
   "source": [
    "from sklearn.model_selection import GridSearchCV"
   ]
  },
  {
   "cell_type": "code",
   "execution_count": 52,
   "id": "f801a058",
   "metadata": {},
   "outputs": [],
   "source": [
    "grid_param= {\n",
    "    'criterion' : ['ginny','entropy'],\n",
    "    'max_depth' : range(5,10),\n",
    "    'min_samples_leaf': range(3,6),\n",
    "    'min_samples_split': range(3,8),\n",
    "    'max_leaf_nodes':range(4,10)\n",
    "}"
   ]
  },
  {
   "cell_type": "code",
   "execution_count": 53,
   "id": "d955f49f",
   "metadata": {},
   "outputs": [],
   "source": [
    "grid_search=GridSearchCV(estimator=dtc,\n",
    "                         param_grid=grid_param,\n",
    "                        cv=5,n_jobs=-1)"
   ]
  },
  {
   "cell_type": "code",
   "execution_count": 54,
   "id": "4bd6b4ac",
   "metadata": {},
   "outputs": [
    {
     "data": {
      "text/plain": [
       "GridSearchCV(cv=5, estimator=DecisionTreeClassifier(), n_jobs=-1,\n",
       "             param_grid={'criterion': ['ginny', 'entropy'],\n",
       "                         'max_depth': range(5, 10),\n",
       "                         'max_leaf_nodes': range(4, 10),\n",
       "                         'min_samples_leaf': range(3, 6),\n",
       "                         'min_samples_split': range(3, 8)})"
      ]
     },
     "execution_count": 54,
     "metadata": {},
     "output_type": "execute_result"
    }
   ],
   "source": [
    "grid_search.fit(X_train,Y_train)"
   ]
  },
  {
   "cell_type": "code",
   "execution_count": 55,
   "id": "a853d8bc",
   "metadata": {},
   "outputs": [
    {
     "data": {
      "text/plain": [
       "{'criterion': 'entropy',\n",
       " 'max_depth': 5,\n",
       " 'max_leaf_nodes': 9,\n",
       " 'min_samples_leaf': 3,\n",
       " 'min_samples_split': 3}"
      ]
     },
     "execution_count": 55,
     "metadata": {},
     "output_type": "execute_result"
    }
   ],
   "source": [
    "grid_search.best_params_"
   ]
  },
  {
   "cell_type": "code",
   "execution_count": 63,
   "id": "493827ba",
   "metadata": {},
   "outputs": [
    {
     "data": {
      "text/plain": [
       "DecisionTreeClassifier(criterion='entropy', max_depth=6, max_leaf_nodes=7,\n",
       "                       min_samples_leaf=3, min_samples_split=8)"
      ]
     },
     "execution_count": 63,
     "metadata": {},
     "output_type": "execute_result"
    }
   ],
   "source": [
    "clf=DecisionTreeClassifier(criterion = 'entropy', max_depth= 6, min_samples_leaf= 3, min_samples_split= 8,max_leaf_nodes= 7 )\n",
    "clf.fit(X_train,Y_train)"
   ]
  },
  {
   "cell_type": "code",
   "execution_count": 64,
   "id": "a361e879",
   "metadata": {},
   "outputs": [],
   "source": [
    "y_pred=clf.predict(X_test)"
   ]
  },
  {
   "cell_type": "code",
   "execution_count": 65,
   "id": "3217bdfe",
   "metadata": {},
   "outputs": [
    {
     "data": {
      "text/plain": [
       "0.5875647668393782"
      ]
     },
     "execution_count": 65,
     "metadata": {},
     "output_type": "execute_result"
    }
   ],
   "source": [
    "acc_score=accuracy_score(Y_test,y_pred)\n",
    "acc_score"
   ]
  },
  {
   "cell_type": "code",
   "execution_count": 66,
   "id": "4c381855",
   "metadata": {},
   "outputs": [
    {
     "name": "stdout",
     "output_type": "stream",
     "text": [
      "              precision    recall  f1-score   support\n",
      "\n",
      "           0       0.58      0.64      0.61      1439\n",
      "           1       0.60      0.53      0.57      1456\n",
      "\n",
      "    accuracy                           0.59      2895\n",
      "   macro avg       0.59      0.59      0.59      2895\n",
      "weighted avg       0.59      0.59      0.59      2895\n",
      "\n",
      "\n",
      "\n"
     ]
    }
   ],
   "source": [
    "class_rep=classification_report(Y_test, y_pred)\n",
    "print(class_rep)\n",
    "print('\\n')"
   ]
  },
  {
   "cell_type": "markdown",
   "id": "a0f46a80",
   "metadata": {},
   "source": [
    "# Score is not improving so lets try random forest classifier"
   ]
  },
  {
   "cell_type": "code",
   "execution_count": 67,
   "id": "90ebdd2d",
   "metadata": {},
   "outputs": [],
   "source": [
    "grid_search=GridSearchCV(estimator=rfr,\n",
    "                         param_grid=grid_param,\n",
    "                        cv=5,n_jobs=-1)"
   ]
  },
  {
   "cell_type": "code",
   "execution_count": 68,
   "id": "5bfa602a",
   "metadata": {},
   "outputs": [
    {
     "data": {
      "text/plain": [
       "GridSearchCV(cv=5, estimator=RandomForestClassifier(), n_jobs=-1,\n",
       "             param_grid={'criterion': ['ginny', 'entropy'],\n",
       "                         'max_depth': range(5, 10),\n",
       "                         'max_leaf_nodes': range(4, 10),\n",
       "                         'min_samples_leaf': range(3, 6),\n",
       "                         'min_samples_split': range(3, 8)})"
      ]
     },
     "execution_count": 68,
     "metadata": {},
     "output_type": "execute_result"
    }
   ],
   "source": [
    "grid_search.fit(X_train,Y_train)"
   ]
  },
  {
   "cell_type": "code",
   "execution_count": 69,
   "id": "dd1f0250",
   "metadata": {},
   "outputs": [
    {
     "data": {
      "text/plain": [
       "{'criterion': 'entropy',\n",
       " 'max_depth': 9,\n",
       " 'max_leaf_nodes': 9,\n",
       " 'min_samples_leaf': 5,\n",
       " 'min_samples_split': 6}"
      ]
     },
     "execution_count": 69,
     "metadata": {},
     "output_type": "execute_result"
    }
   ],
   "source": [
    "grid_search.best_params_"
   ]
  },
  {
   "cell_type": "code",
   "execution_count": 71,
   "id": "53d43928",
   "metadata": {},
   "outputs": [
    {
     "data": {
      "text/plain": [
       "RandomForestClassifier(criterion='entropy', max_depth=9, max_leaf_nodes=9,\n",
       "                       min_samples_leaf=5, min_samples_split=6)"
      ]
     },
     "execution_count": 71,
     "metadata": {},
     "output_type": "execute_result"
    }
   ],
   "source": [
    "clf=RandomForestClassifier(criterion = 'entropy', max_depth= 9, min_samples_leaf= 5, min_samples_split= 6,max_leaf_nodes= 9 )\n",
    "clf.fit(X_train,Y_train)"
   ]
  },
  {
   "cell_type": "code",
   "execution_count": 72,
   "id": "546d9c3b",
   "metadata": {},
   "outputs": [],
   "source": [
    "y_pred=clf.predict(X_test)"
   ]
  },
  {
   "cell_type": "code",
   "execution_count": 73,
   "id": "15059db6",
   "metadata": {},
   "outputs": [
    {
     "data": {
      "text/plain": [
       "0.6490500863557859"
      ]
     },
     "execution_count": 73,
     "metadata": {},
     "output_type": "execute_result"
    }
   ],
   "source": [
    "acc_score=accuracy_score(Y_test,y_pred)\n",
    "acc_score"
   ]
  },
  {
   "cell_type": "code",
   "execution_count": 74,
   "id": "af925c5c",
   "metadata": {},
   "outputs": [
    {
     "name": "stdout",
     "output_type": "stream",
     "text": [
      "              precision    recall  f1-score   support\n",
      "\n",
      "           0       0.64      0.66      0.65      1439\n",
      "           1       0.65      0.64      0.65      1456\n",
      "\n",
      "    accuracy                           0.65      2895\n",
      "   macro avg       0.65      0.65      0.65      2895\n",
      "weighted avg       0.65      0.65      0.65      2895\n",
      "\n",
      "\n",
      "\n"
     ]
    }
   ],
   "source": [
    "class_rep=classification_report(Y_test, y_pred)\n",
    "print(class_rep)\n",
    "print('\\n')"
   ]
  },
  {
   "cell_type": "markdown",
   "id": "ead9c3ed",
   "metadata": {},
   "source": [
    "# IN RANDOM FOREST CLASSIFIER WE CAN SAY THAT THROUGH HYPER PARAMETER TUNNING SCORE DOESNOT INCREASES"
   ]
  }
 ],
 "metadata": {
  "kernelspec": {
   "display_name": "Python 3 (ipykernel)",
   "language": "python",
   "name": "python3"
  },
  "language_info": {
   "codemirror_mode": {
    "name": "ipython",
    "version": 3
   },
   "file_extension": ".py",
   "mimetype": "text/x-python",
   "name": "python",
   "nbconvert_exporter": "python",
   "pygments_lexer": "ipython3",
   "version": "3.9.12"
  }
 },
 "nbformat": 4,
 "nbformat_minor": 5
}
